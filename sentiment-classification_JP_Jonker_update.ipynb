{
 "cells": [
  {
   "cell_type": "markdown",
   "metadata": {},
   "source": [
    "**Twitter sentiment classification.**\n",
    "\n",
    "The notebook will be used to create a model to determine twitter users sentiment regarding global warming based of twitter posts.\n",
    "\n",
    "\n",
    "**Steps that will be followed**\n",
    "\n",
    "1. Import all libraries used for data cleaning, preprocesing, EDA,  model building and evaluation.\n",
    "2. Import training and testing data\n",
    "3. Data cleaning and data preprocessing\n",
    "4. Vecotorizing data\n",
    "5. Feature selection\n",
    "6. Model building and comparison\n",
    "7. Metrics evaluation\n",
    "8. Model hyperparameter tuning\n",
    "9. Final model creation\n",
    "10. Save model for reproducability"
   ]
  },
  {
   "cell_type": "markdown",
   "metadata": {},
   "source": [
    "**Import libraries that will be used in this predict**"
   ]
  },
  {
   "cell_type": "code",
   "execution_count": 70,
   "metadata": {
    "execution": {
     "iopub.execute_input": "2022-10-11T14:12:16.187380Z",
     "iopub.status.busy": "2022-10-11T14:12:16.186821Z",
     "iopub.status.idle": "2022-10-11T14:12:17.503395Z",
     "shell.execute_reply": "2022-10-11T14:12:17.501750Z",
     "shell.execute_reply.started": "2022-10-11T14:12:16.187298Z"
    }
   },
   "outputs": [
    {
     "name": "stderr",
     "output_type": "stream",
     "text": [
      "[nltk_data] Downloading package omw-1.4 to\n",
      "[nltk_data]     C:\\Users\\jeanj\\AppData\\Roaming\\nltk_data...\n",
      "[nltk_data]   Package omw-1.4 is already up-to-date!\n"
     ]
    }
   ],
   "source": [
    "#Libaries to process data\n",
    "import pandas as pd\n",
    "import numpy as np\n",
    "\n",
    "#Libaries for visualization\n",
    "from matplotlib import pyplot as plt\n",
    "%matplotlib inline\n",
    "import seaborn as sns\n",
    "\n",
    "#import libraries to preprocess/clean twitter data\n",
    "import string\n",
    "import re\n",
    "import nltk\n",
    "nltk.download('omw-1.4')\n",
    "from sklearn.preprocessing import LabelBinarizer\n",
    "\n",
    "#import word cleaning and reformatting libraries\n",
    "from nltk.corpus import stopwords\n",
    "from nltk.stem import WordNetLemmatizer\n",
    "from sklearn.utils import resample\n",
    "\n",
    "#import feature extraction libraries\n",
    "from sklearn.feature_extraction.text import CountVectorizer\n",
    "from sklearn.feature_extraction.text import TfidfVectorizer\n",
    "\n",
    "#import train test split library\n",
    "from sklearn.model_selection import train_test_split\n",
    "\n",
    "#import feature standarization library\n",
    "from sklearn.preprocessing import StandardScaler\n",
    "\n",
    "#import feature selection libraries\n",
    "from sklearn.feature_selection import VarianceThreshold\n",
    "\n",
    "#import all classifier models that will be used\n",
    "from sklearn.linear_model import LogisticRegression\n",
    "from sklearn import tree\n",
    "from sklearn.tree import DecisionTreeClassifier\n",
    "from sklearn.ensemble import RandomForestClassifier\n",
    "from sklearn.svm import SVC\n",
    "from sklearn.naive_bayes import GaussianNB\n",
    "from sklearn.neighbors import KNeighborsClassifier\n",
    "from sklearn.ensemble import AdaBoostClassifier\n",
    "from sklearn.neural_network import MLPClassifier\n",
    "from xgboost import XGBClassifier\n",
    "from lightgbm import LGBMClassifier\n",
    "from sklearn.multiclass import OneVsRestClassifier\n",
    "\n",
    "#import libraries used for metrics of models\n",
    "from sklearn import metrics\n",
    "from sklearn.metrics import make_scorer\n",
    "from sklearn.metrics import confusion_matrix\n",
    "from sklearn.metrics import classification_report\n",
    "\n",
    "#import hyper paramerter tuning libraries using cross validation\n",
    "from sklearn.model_selection import cross_val_score\n",
    "from sklearn.model_selection import GridSearchCV\n",
    "\n",
    "from scipy import sparse\n",
    "\n",
    "#Save model\n",
    "import pickle"
   ]
  },
  {
   "cell_type": "markdown",
   "metadata": {},
   "source": [
    "**Import training and testing data**"
   ]
  },
  {
   "cell_type": "code",
   "execution_count": 71,
   "metadata": {
    "execution": {
     "iopub.execute_input": "2022-10-11T14:12:17.506586Z",
     "iopub.status.busy": "2022-10-11T14:12:17.506072Z",
     "iopub.status.idle": "2022-10-11T14:12:17.614315Z",
     "shell.execute_reply": "2022-10-11T14:12:17.612824Z",
     "shell.execute_reply.started": "2022-10-11T14:12:17.506544Z"
    }
   },
   "outputs": [
    {
     "name": "stdout",
     "output_type": "stream",
     "text": [
      "(15819, 3)\n",
      "(10546, 2)\n"
     ]
    }
   ],
   "source": [
    "#import training and testing data\n",
    "train_df = pd.read_csv('train.csv')\n",
    "test_df = pd.read_csv('test.csv')\n",
    "#print shape of training and testing data\n",
    "print(train_df.shape)\n",
    "print(test_df.shape)"
   ]
  },
  {
   "cell_type": "code",
   "execution_count": 72,
   "metadata": {
    "execution": {
     "iopub.execute_input": "2022-10-11T14:12:17.618476Z",
     "iopub.status.busy": "2022-10-11T14:12:17.618012Z",
     "iopub.status.idle": "2022-10-11T14:12:17.631757Z",
     "shell.execute_reply": "2022-10-11T14:12:17.630728Z",
     "shell.execute_reply.started": "2022-10-11T14:12:17.618437Z"
    }
   },
   "outputs": [
    {
     "name": "stdout",
     "output_type": "stream",
     "text": [
      "Train data\n",
      "   sentiment                                            message  tweetid\n",
      "0          1  PolySciMajor EPA chief doesn't think carbon di...   625221\n",
      "1          1  It's not like we lack evidence of anthropogeni...   126103\n",
      "2          2  RT @RawStory: Researchers say we have three ye...   698562\n",
      "3          1  #TodayinMaker# WIRED : 2016 was a pivotal year...   573736\n",
      "4          1  RT @SoyNovioDeTodas: It's 2016, and a racist, ...   466954\n",
      "\n",
      "Test data\n",
      "                                             message  tweetid\n",
      "0  Europe will now be looking to China to make su...   169760\n",
      "1  Combine this with the polling of staffers re c...    35326\n",
      "2  The scary, unimpeachable evidence that climate...   224985\n",
      "3  @Karoli @morgfair @OsborneInk @dailykos \\nPuti...   476263\n",
      "4  RT @FakeWillMoore: 'Female orgasms cause globa...   872928\n"
     ]
    }
   ],
   "source": [
    "#Display the header of training and testing data\n",
    "print(\"Train data\")\n",
    "print(train_df.head())\n",
    "print(\"\\nTest data\")\n",
    "print(test_df.head())"
   ]
  },
  {
   "cell_type": "code",
   "execution_count": 73,
   "metadata": {
    "execution": {
     "iopub.execute_input": "2022-10-11T14:12:17.634534Z",
     "iopub.status.busy": "2022-10-11T14:12:17.633102Z",
     "iopub.status.idle": "2022-10-11T14:12:17.656247Z",
     "shell.execute_reply": "2022-10-11T14:12:17.654718Z",
     "shell.execute_reply.started": "2022-10-11T14:12:17.634318Z"
    }
   },
   "outputs": [
    {
     "name": "stdout",
     "output_type": "stream",
     "text": [
      "Train data\n",
      "   tweetid                                            message  sentiment\n",
      "0   625221  PolySciMajor EPA chief doesn't think carbon di...          1\n",
      "1   126103  It's not like we lack evidence of anthropogeni...          1\n",
      "2   698562  RT @RawStory: Researchers say we have three ye...          2\n",
      "3   573736  #TodayinMaker# WIRED : 2016 was a pivotal year...          1\n",
      "4   466954  RT @SoyNovioDeTodas: It's 2016, and a racist, ...          1\n",
      "\n",
      "Test data\n",
      "   tweetid                                            message\n",
      "0   169760  Europe will now be looking to China to make su...\n",
      "1    35326  Combine this with the polling of staffers re c...\n",
      "2   224985  The scary, unimpeachable evidence that climate...\n",
      "3   476263  @Karoli @morgfair @OsborneInk @dailykos \\nPuti...\n",
      "4   872928  RT @FakeWillMoore: 'Female orgasms cause globa...\n"
     ]
    }
   ],
   "source": [
    "#Reformat the dataframe view for training and testing data\n",
    "train_df = train_df[['tweetid','message','sentiment']]\n",
    "test_df = test_df[['tweetid','message']]\n",
    "#Display the header of training and testing data\n",
    "print(\"Train data\")\n",
    "print(train_df.head())\n",
    "print(\"\\nTest data\")\n",
    "print(test_df.head())"
   ]
  },
  {
   "cell_type": "markdown",
   "metadata": {},
   "source": [
    "**Data cleaning and preprocessing**"
   ]
  },
  {
   "cell_type": "code",
   "execution_count": 74,
   "metadata": {
    "execution": {
     "iopub.execute_input": "2022-10-11T14:12:17.658380Z",
     "iopub.status.busy": "2022-10-11T14:12:17.657815Z",
     "iopub.status.idle": "2022-10-11T14:12:17.669992Z",
     "shell.execute_reply": "2022-10-11T14:12:17.668874Z",
     "shell.execute_reply.started": "2022-10-11T14:12:17.658330Z"
    }
   },
   "outputs": [],
   "source": [
    "#Combine the training and testing data for data cleaning and preprocessing\n",
    "df = pd.concat([train_df, test_df], axis=0)"
   ]
  },
  {
   "cell_type": "code",
   "execution_count": 75,
   "metadata": {
    "execution": {
     "iopub.execute_input": "2022-10-11T14:12:17.672799Z",
     "iopub.status.busy": "2022-10-11T14:12:17.671643Z",
     "iopub.status.idle": "2022-10-11T14:12:17.711847Z",
     "shell.execute_reply": "2022-10-11T14:12:17.710663Z",
     "shell.execute_reply.started": "2022-10-11T14:12:17.672753Z"
    }
   },
   "outputs": [
    {
     "data": {
      "text/html": [
       "<div>\n",
       "<style scoped>\n",
       "    .dataframe tbody tr th:only-of-type {\n",
       "        vertical-align: middle;\n",
       "    }\n",
       "\n",
       "    .dataframe tbody tr th {\n",
       "        vertical-align: top;\n",
       "    }\n",
       "\n",
       "    .dataframe thead th {\n",
       "        text-align: right;\n",
       "    }\n",
       "</style>\n",
       "<table border=\"1\" class=\"dataframe\">\n",
       "  <thead>\n",
       "    <tr style=\"text-align: right;\">\n",
       "      <th></th>\n",
       "      <th>count</th>\n",
       "      <th>mean</th>\n",
       "      <th>std</th>\n",
       "      <th>min</th>\n",
       "      <th>25%</th>\n",
       "      <th>50%</th>\n",
       "      <th>75%</th>\n",
       "      <th>max</th>\n",
       "    </tr>\n",
       "  </thead>\n",
       "  <tbody>\n",
       "    <tr>\n",
       "      <th>tweetid</th>\n",
       "      <td>26365.0</td>\n",
       "      <td>499791.634971</td>\n",
       "      <td>288678.408660</td>\n",
       "      <td>6.0</td>\n",
       "      <td>249928.0</td>\n",
       "      <td>499577.0</td>\n",
       "      <td>748695.0</td>\n",
       "      <td>999983.0</td>\n",
       "    </tr>\n",
       "    <tr>\n",
       "      <th>sentiment</th>\n",
       "      <td>15819.0</td>\n",
       "      <td>0.917504</td>\n",
       "      <td>0.836537</td>\n",
       "      <td>-1.0</td>\n",
       "      <td>1.0</td>\n",
       "      <td>1.0</td>\n",
       "      <td>1.0</td>\n",
       "      <td>2.0</td>\n",
       "    </tr>\n",
       "  </tbody>\n",
       "</table>\n",
       "</div>"
      ],
      "text/plain": [
       "             count           mean            std  min       25%       50%  \\\n",
       "tweetid    26365.0  499791.634971  288678.408660  6.0  249928.0  499577.0   \n",
       "sentiment  15819.0       0.917504       0.836537 -1.0       1.0       1.0   \n",
       "\n",
       "                75%       max  \n",
       "tweetid    748695.0  999983.0  \n",
       "sentiment       1.0       2.0  "
      ]
     },
     "execution_count": 75,
     "metadata": {},
     "output_type": "execute_result"
    }
   ],
   "source": [
    "#Show descriptive statistics information for the dataframe\n",
    "df.describe().transpose()"
   ]
  },
  {
   "cell_type": "code",
   "execution_count": 76,
   "metadata": {
    "execution": {
     "iopub.execute_input": "2022-10-11T14:12:17.714115Z",
     "iopub.status.busy": "2022-10-11T14:12:17.713489Z",
     "iopub.status.idle": "2022-10-11T14:12:17.729195Z",
     "shell.execute_reply": "2022-10-11T14:12:17.727714Z",
     "shell.execute_reply.started": "2022-10-11T14:12:17.714080Z"
    }
   },
   "outputs": [
    {
     "data": {
      "text/plain": [
       "tweetid          0\n",
       "message          0\n",
       "sentiment    10546\n",
       "dtype: int64"
      ]
     },
     "execution_count": 76,
     "metadata": {},
     "output_type": "execute_result"
    }
   ],
   "source": [
    "#Check if data have any blank values\n",
    "df.isnull().sum()"
   ]
  },
  {
   "cell_type": "code",
   "execution_count": 77,
   "metadata": {
    "execution": {
     "iopub.execute_input": "2022-10-11T14:12:17.732426Z",
     "iopub.status.busy": "2022-10-11T14:12:17.730878Z",
     "iopub.status.idle": "2022-10-11T14:12:17.858663Z",
     "shell.execute_reply": "2022-10-11T14:12:17.857374Z",
     "shell.execute_reply.started": "2022-10-11T14:12:17.732336Z"
    }
   },
   "outputs": [
    {
     "data": {
      "text/html": [
       "<div>\n",
       "<style scoped>\n",
       "    .dataframe tbody tr th:only-of-type {\n",
       "        vertical-align: middle;\n",
       "    }\n",
       "\n",
       "    .dataframe tbody tr th {\n",
       "        vertical-align: top;\n",
       "    }\n",
       "\n",
       "    .dataframe thead th {\n",
       "        text-align: right;\n",
       "    }\n",
       "</style>\n",
       "<table border=\"1\" class=\"dataframe\">\n",
       "  <thead>\n",
       "    <tr style=\"text-align: right;\">\n",
       "      <th></th>\n",
       "      <th>tweetid</th>\n",
       "      <th>message</th>\n",
       "      <th>sentiment</th>\n",
       "    </tr>\n",
       "  </thead>\n",
       "  <tbody>\n",
       "    <tr>\n",
       "      <th>0</th>\n",
       "      <td>625221</td>\n",
       "      <td>polyscimajor epa chief doesn't think carbon di...</td>\n",
       "      <td>1.0</td>\n",
       "    </tr>\n",
       "    <tr>\n",
       "      <th>1</th>\n",
       "      <td>126103</td>\n",
       "      <td>it's not like we lack evidence of anthropogeni...</td>\n",
       "      <td>1.0</td>\n",
       "    </tr>\n",
       "    <tr>\n",
       "      <th>2</th>\n",
       "      <td>698562</td>\n",
       "      <td>rt @rawstory: researchers say we have three ye...</td>\n",
       "      <td>2.0</td>\n",
       "    </tr>\n",
       "    <tr>\n",
       "      <th>3</th>\n",
       "      <td>573736</td>\n",
       "      <td>#todayinmaker# wired : 2016 was a pivotal year...</td>\n",
       "      <td>1.0</td>\n",
       "    </tr>\n",
       "    <tr>\n",
       "      <th>4</th>\n",
       "      <td>466954</td>\n",
       "      <td>rt @soynoviodetodas: it's 2016, and a racist, ...</td>\n",
       "      <td>1.0</td>\n",
       "    </tr>\n",
       "    <tr>\n",
       "      <th>...</th>\n",
       "      <td>...</td>\n",
       "      <td>...</td>\n",
       "      <td>...</td>\n",
       "    </tr>\n",
       "    <tr>\n",
       "      <th>10541</th>\n",
       "      <td>895714</td>\n",
       "      <td>rt @brittanybohrer: brb, writing a poem about ...</td>\n",
       "      <td>NaN</td>\n",
       "    </tr>\n",
       "    <tr>\n",
       "      <th>10542</th>\n",
       "      <td>875167</td>\n",
       "      <td>2016: the year climate change came home: durin...</td>\n",
       "      <td>NaN</td>\n",
       "    </tr>\n",
       "    <tr>\n",
       "      <th>10543</th>\n",
       "      <td>78329</td>\n",
       "      <td>rt @loop_vanuatu: pacific countries positive a...</td>\n",
       "      <td>NaN</td>\n",
       "    </tr>\n",
       "    <tr>\n",
       "      <th>10544</th>\n",
       "      <td>867455</td>\n",
       "      <td>rt @xanria_00018: you’re so hot, you must be t...</td>\n",
       "      <td>NaN</td>\n",
       "    </tr>\n",
       "    <tr>\n",
       "      <th>10545</th>\n",
       "      <td>470892</td>\n",
       "      <td>rt @chloebalaoing: climate change is a global ...</td>\n",
       "      <td>NaN</td>\n",
       "    </tr>\n",
       "  </tbody>\n",
       "</table>\n",
       "<p>26365 rows × 3 columns</p>\n",
       "</div>"
      ],
      "text/plain": [
       "       tweetid                                            message  sentiment\n",
       "0       625221  polyscimajor epa chief doesn't think carbon di...        1.0\n",
       "1       126103  it's not like we lack evidence of anthropogeni...        1.0\n",
       "2       698562  rt @rawstory: researchers say we have three ye...        2.0\n",
       "3       573736  #todayinmaker# wired : 2016 was a pivotal year...        1.0\n",
       "4       466954  rt @soynoviodetodas: it's 2016, and a racist, ...        1.0\n",
       "...        ...                                                ...        ...\n",
       "10541   895714  rt @brittanybohrer: brb, writing a poem about ...        NaN\n",
       "10542   875167  2016: the year climate change came home: durin...        NaN\n",
       "10543    78329  rt @loop_vanuatu: pacific countries positive a...        NaN\n",
       "10544   867455  rt @xanria_00018: you’re so hot, you must be t...        NaN\n",
       "10545   470892  rt @chloebalaoing: climate change is a global ...        NaN\n",
       "\n",
       "[26365 rows x 3 columns]"
      ]
     },
     "execution_count": 77,
     "metadata": {},
     "output_type": "execute_result"
    }
   ],
   "source": [
    "#Remove all of the urls from message column\n",
    "def remove_urls_lower(df_to_clean):\n",
    "    #identify url pattern\n",
    "    url_pattern = r'http[s]?://(?:[A-Za-z]|[0-9]|[$-_@.&+]|[!*\\(\\),]|(?:%[0-9A-Fa-f][0-9A-Fa-f]))+'\n",
    "    #new string for url\n",
    "    url = r'urlweb'\n",
    "    #replace with string\n",
    "    df_to_clean['message'] = df_to_clean['message'].replace(to_replace=url_pattern, value=url,regex=True)\n",
    "    df_to_clean['message'] = df_to_clean['message'].str.lower()\n",
    "    return df_to_clean\n",
    "\n",
    "#insert df and return df with urls removed\n",
    "remove_urls_lower(df)"
   ]
  },
  {
   "cell_type": "code",
   "execution_count": 78,
   "metadata": {
    "execution": {
     "iopub.execute_input": "2022-10-11T14:12:17.861213Z",
     "iopub.status.busy": "2022-10-11T14:12:17.860584Z",
     "iopub.status.idle": "2022-10-11T14:12:18.225299Z",
     "shell.execute_reply": "2022-10-11T14:12:18.224397Z",
     "shell.execute_reply.started": "2022-10-11T14:12:17.861160Z"
    }
   },
   "outputs": [
    {
     "data": {
      "text/plain": [
       "0        polyscimajor epa chief doesnt think carbon dio...\n",
       "1        its not like we lack evidence of anthropogenic...\n",
       "2        rt rawstory researchers say we have three year...\n",
       "3        todayinmaker wired   was a pivotal year in the...\n",
       "4        rt soynoviodetodas its  and a racist sexist cl...\n",
       "                               ...                        \n",
       "10541    rt brittanybohrer brb writing a poem about cli...\n",
       "10542     the year climate change came home during the ...\n",
       "10543    rt loopvanuatu pacific countries positive abou...\n",
       "10544    rt xanria youre so hot you must be the cause f...\n",
       "10545    rt chloebalaoing climate change is a global is...\n",
       "Name: message, Length: 26365, dtype: object"
      ]
     },
     "execution_count": 78,
     "metadata": {},
     "output_type": "execute_result"
    }
   ],
   "source": [
    "#Remove all punctuation, numbers and special characters from message column\n",
    "def remove_punctuation(message):\n",
    "    punctuation = string.punctuation\n",
    "    numbers = '0123456789'\n",
    "    special_char = 'â€¦\",\"ðŸ¥³ã¢‚¬.ï¿½'\n",
    "    remove_char = punctuation+numbers+special_char\n",
    "    cleaned_sentence = ''.join([char for char in message if char not in remove_char])\n",
    "    #Remove unicode characters\n",
    "    encode = cleaned_sentence.encode('ascii', 'ignore')\n",
    "    decode_cleaned_sentence = encode.decode()\n",
    "    return decode_cleaned_sentence\n",
    "\n",
    "#apply remove _punctuation function on message column of whole dataframe\n",
    "df['message'] =df['message'].apply(remove_punctuation)\n",
    "df['message']"
   ]
  },
  {
   "cell_type": "code",
   "execution_count": 79,
   "metadata": {
    "execution": {
     "iopub.execute_input": "2022-10-11T14:12:18.227266Z",
     "iopub.status.busy": "2022-10-11T14:12:18.226576Z",
     "iopub.status.idle": "2022-10-11T14:12:22.682895Z",
     "shell.execute_reply": "2022-10-11T14:12:22.681191Z",
     "shell.execute_reply.started": "2022-10-11T14:12:18.227227Z"
    }
   },
   "outputs": [],
   "source": [
    "#Create instance of Lemmatizer\n",
    "lemmatized = WordNetLemmatizer()\n",
    "#Create funtion to split, lemmatise and combine a sentence\n",
    "def lemma_df(sentence, lemmatized):\n",
    "    spliting = sentence.split(' ')\n",
    "    lemmatized_sentence = [lemmatized.lemmatize(word) for word in spliting]\n",
    "    combine_words = ' '.join(lemmatized_sentence)\n",
    "    return combine_words\n",
    "#apply lemma_df function on message column of whole dataframe\n",
    "df['message'] = df['message'].apply(lemma_df, args=(lemmatized,))"
   ]
  },
  {
   "cell_type": "code",
   "execution_count": 80,
   "metadata": {},
   "outputs": [],
   "source": [
    "#Split cleaned data into training and testing datasets\n",
    "training_data = df[pd.notnull(df['sentiment'])]\n",
    "testing_data = df[pd.isnull(df['sentiment'])].drop(['sentiment'],axis=1)"
   ]
  },
  {
   "cell_type": "code",
   "execution_count": 81,
   "metadata": {
    "execution": {
     "iopub.execute_input": "2022-10-11T14:12:22.685317Z",
     "iopub.status.busy": "2022-10-11T14:12:22.684916Z",
     "iopub.status.idle": "2022-10-11T14:12:23.767960Z",
     "shell.execute_reply": "2022-10-11T14:12:23.766706Z",
     "shell.execute_reply.started": "2022-10-11T14:12:22.685280Z"
    }
   },
   "outputs": [
    {
     "name": "stdout",
     "output_type": "stream",
     "text": [
      "13289\n"
     ]
    },
    {
     "name": "stderr",
     "output_type": "stream",
     "text": [
      "C:\\Users\\jeanj\\Anaconda3\\lib\\site-packages\\sklearn\\utils\\deprecation.py:87: FutureWarning: Function get_feature_names is deprecated; get_feature_names is deprecated in 1.0 and will be removed in 1.2. Please use get_feature_names_out instead.\n",
      "  warnings.warn(msg, category=FutureWarning)\n"
     ]
    }
   ],
   "source": [
    "#create variable to store all of the english stopwords\n",
    "stopwords_list = stopwords.words('english')\n",
    "#create instance of countvectoriser\n",
    "vect = CountVectorizer(stop_words=stopwords_list, ngram_range=(1,2), max_df=0.1, min_df=3)\n",
    "#fit data to countvectoriser instance\n",
    "X = vect.fit_transform(training_data['message'])\n",
    "#display number of features selected\n",
    "print(len(vect.get_feature_names()))"
   ]
  },
  {
   "cell_type": "code",
   "execution_count": 82,
   "metadata": {
    "execution": {
     "iopub.execute_input": "2022-10-11T14:12:23.774670Z",
     "iopub.status.busy": "2022-10-11T14:12:23.773836Z",
     "iopub.status.idle": "2022-10-11T14:12:24.651318Z",
     "shell.execute_reply": "2022-10-11T14:12:24.649976Z",
     "shell.execute_reply.started": "2022-10-11T14:12:23.774618Z"
    }
   },
   "outputs": [
    {
     "data": {
      "text/plain": [
       "15819"
      ]
     },
     "execution_count": 82,
     "metadata": {},
     "output_type": "execute_result"
    }
   ],
   "source": [
    "#confirm lenght of training data\n",
    "len(X.toarray())"
   ]
  },
  {
   "cell_type": "code",
   "execution_count": 83,
   "metadata": {
    "execution": {
     "iopub.execute_input": "2022-10-11T14:12:24.653529Z",
     "iopub.status.busy": "2022-10-11T14:12:24.653108Z",
     "iopub.status.idle": "2022-10-11T14:12:25.044854Z",
     "shell.execute_reply": "2022-10-11T14:12:25.043441Z",
     "shell.execute_reply.started": "2022-10-11T14:12:24.653493Z"
    }
   },
   "outputs": [],
   "source": [
    "#Create new dataframe with the vectorised training data\n",
    "training_data_vectorised = pd.DataFrame(X.toarray(), columns=vect.get_feature_names())\n",
    "training_data_vectorised['tweetid'] = training_data['tweetid'].values\n",
    "training_data_vectorised['sentiment'] = training_data['sentiment'].values"
   ]
  },
  {
   "cell_type": "code",
   "execution_count": 84,
   "metadata": {
    "execution": {
     "iopub.execute_input": "2022-10-11T14:12:25.048414Z",
     "iopub.status.busy": "2022-10-11T14:12:25.047853Z",
     "iopub.status.idle": "2022-10-11T14:12:25.054825Z",
     "shell.execute_reply": "2022-10-11T14:12:25.053827Z",
     "shell.execute_reply.started": "2022-10-11T14:12:25.048336Z"
    }
   },
   "outputs": [],
   "source": [
    "#remove previous unused dataframes to lower memory usage\n",
    "del train_df\n",
    "del test_df\n",
    "del df"
   ]
  },
  {
   "cell_type": "code",
   "execution_count": 85,
   "metadata": {},
   "outputs": [
    {
     "name": "stdout",
     "output_type": "stream",
     "text": [
      "(10546, 13289)\n"
     ]
    },
    {
     "name": "stderr",
     "output_type": "stream",
     "text": [
      "C:\\Users\\jeanj\\Anaconda3\\lib\\site-packages\\sklearn\\utils\\deprecation.py:87: FutureWarning: Function get_feature_names is deprecated; get_feature_names is deprecated in 1.0 and will be removed in 1.2. Please use get_feature_names_out instead.\n",
      "  warnings.warn(msg, category=FutureWarning)\n"
     ]
    }
   ],
   "source": [
    "#vectorise the testing data\n",
    "Xtesting = vect.transform(testing_data['message'])\n",
    "#confirm shape of vectorised testing data\n",
    "print(Xtesting.shape)\n",
    "#Create new dataframe with the vectorised testing data\n",
    "testing_data_vectorised = pd.DataFrame(Xtesting.toarray(), columns=vect.get_feature_names())\n",
    "testing_data_vectorised['tweetid'] = testing_data['tweetid'].values"
   ]
  },
  {
   "cell_type": "code",
   "execution_count": 86,
   "metadata": {},
   "outputs": [
    {
     "name": "stdout",
     "output_type": "stream",
     "text": [
      "(15819, 13291)\n",
      "(10546, 13290)\n"
     ]
    }
   ],
   "source": [
    "#print shapes of testing and training dataframes\n",
    "print(training_data_vectorised.shape)\n",
    "print(testing_data_vectorised.shape)"
   ]
  },
  {
   "cell_type": "code",
   "execution_count": 87,
   "metadata": {
    "execution": {
     "iopub.execute_input": "2022-10-11T14:12:25.056899Z",
     "iopub.status.busy": "2022-10-11T14:12:25.056148Z",
     "iopub.status.idle": "2022-10-11T14:12:27.510277Z",
     "shell.execute_reply": "2022-10-11T14:12:27.508846Z",
     "shell.execute_reply.started": "2022-10-11T14:12:25.056853Z"
    }
   },
   "outputs": [],
   "source": [
    "#change classes to integer\n",
    "training_data_vectorised['sentiment'] = training_data_vectorised['sentiment'].astype(int)"
   ]
  },
  {
   "cell_type": "code",
   "execution_count": 88,
   "metadata": {
    "execution": {
     "iopub.execute_input": "2022-10-11T14:12:27.522385Z",
     "iopub.status.busy": "2022-10-11T14:12:27.521882Z",
     "iopub.status.idle": "2022-10-11T14:12:27.550337Z",
     "shell.execute_reply": "2022-10-11T14:12:27.549007Z",
     "shell.execute_reply.started": "2022-10-11T14:12:27.522315Z"
    }
   },
   "outputs": [],
   "source": [
    "#remove previous unused dataframes to lower memory usage\n",
    "del vect"
   ]
  },
  {
   "cell_type": "code",
   "execution_count": 89,
   "metadata": {
    "execution": {
     "iopub.execute_input": "2022-10-11T14:12:27.582298Z",
     "iopub.status.busy": "2022-10-11T14:12:27.581826Z",
     "iopub.status.idle": "2022-10-11T14:12:27.606886Z",
     "shell.execute_reply": "2022-10-11T14:12:27.605834Z",
     "shell.execute_reply.started": "2022-10-11T14:12:27.582258Z"
    }
   },
   "outputs": [
    {
     "data": {
      "text/html": [
       "<div>\n",
       "<style scoped>\n",
       "    .dataframe tbody tr th:only-of-type {\n",
       "        vertical-align: middle;\n",
       "    }\n",
       "\n",
       "    .dataframe tbody tr th {\n",
       "        vertical-align: top;\n",
       "    }\n",
       "\n",
       "    .dataframe thead th {\n",
       "        text-align: right;\n",
       "    }\n",
       "</style>\n",
       "<table border=\"1\" class=\"dataframe\">\n",
       "  <thead>\n",
       "    <tr style=\"text-align: right;\">\n",
       "      <th></th>\n",
       "      <th>aaa</th>\n",
       "      <th>ab</th>\n",
       "      <th>abandon</th>\n",
       "      <th>abandoned</th>\n",
       "      <th>abandoning</th>\n",
       "      <th>abandoning climate</th>\n",
       "      <th>abbott</th>\n",
       "      <th>abc</th>\n",
       "      <th>abc john</th>\n",
       "      <th>abc news</th>\n",
       "      <th>...</th>\n",
       "      <th>zealot</th>\n",
       "      <th>zero</th>\n",
       "      <th>zero question</th>\n",
       "      <th>zeroco</th>\n",
       "      <th>zika</th>\n",
       "      <th>zinke</th>\n",
       "      <th>zoe</th>\n",
       "      <th>zone</th>\n",
       "      <th>zone urlweb</th>\n",
       "      <th>tweetid</th>\n",
       "    </tr>\n",
       "  </thead>\n",
       "  <tbody>\n",
       "    <tr>\n",
       "      <th>0</th>\n",
       "      <td>0</td>\n",
       "      <td>0</td>\n",
       "      <td>0</td>\n",
       "      <td>0</td>\n",
       "      <td>0</td>\n",
       "      <td>0</td>\n",
       "      <td>0</td>\n",
       "      <td>0</td>\n",
       "      <td>0</td>\n",
       "      <td>0</td>\n",
       "      <td>...</td>\n",
       "      <td>0</td>\n",
       "      <td>0</td>\n",
       "      <td>0</td>\n",
       "      <td>0</td>\n",
       "      <td>0</td>\n",
       "      <td>0</td>\n",
       "      <td>0</td>\n",
       "      <td>0</td>\n",
       "      <td>0</td>\n",
       "      <td>169760</td>\n",
       "    </tr>\n",
       "    <tr>\n",
       "      <th>1</th>\n",
       "      <td>0</td>\n",
       "      <td>0</td>\n",
       "      <td>0</td>\n",
       "      <td>0</td>\n",
       "      <td>0</td>\n",
       "      <td>0</td>\n",
       "      <td>0</td>\n",
       "      <td>0</td>\n",
       "      <td>0</td>\n",
       "      <td>0</td>\n",
       "      <td>...</td>\n",
       "      <td>0</td>\n",
       "      <td>0</td>\n",
       "      <td>0</td>\n",
       "      <td>0</td>\n",
       "      <td>0</td>\n",
       "      <td>0</td>\n",
       "      <td>0</td>\n",
       "      <td>0</td>\n",
       "      <td>0</td>\n",
       "      <td>35326</td>\n",
       "    </tr>\n",
       "    <tr>\n",
       "      <th>2</th>\n",
       "      <td>0</td>\n",
       "      <td>0</td>\n",
       "      <td>0</td>\n",
       "      <td>0</td>\n",
       "      <td>0</td>\n",
       "      <td>0</td>\n",
       "      <td>0</td>\n",
       "      <td>0</td>\n",
       "      <td>0</td>\n",
       "      <td>0</td>\n",
       "      <td>...</td>\n",
       "      <td>0</td>\n",
       "      <td>0</td>\n",
       "      <td>0</td>\n",
       "      <td>1</td>\n",
       "      <td>0</td>\n",
       "      <td>0</td>\n",
       "      <td>0</td>\n",
       "      <td>0</td>\n",
       "      <td>0</td>\n",
       "      <td>224985</td>\n",
       "    </tr>\n",
       "    <tr>\n",
       "      <th>3</th>\n",
       "      <td>0</td>\n",
       "      <td>0</td>\n",
       "      <td>0</td>\n",
       "      <td>0</td>\n",
       "      <td>0</td>\n",
       "      <td>0</td>\n",
       "      <td>0</td>\n",
       "      <td>0</td>\n",
       "      <td>0</td>\n",
       "      <td>0</td>\n",
       "      <td>...</td>\n",
       "      <td>0</td>\n",
       "      <td>0</td>\n",
       "      <td>0</td>\n",
       "      <td>0</td>\n",
       "      <td>0</td>\n",
       "      <td>0</td>\n",
       "      <td>0</td>\n",
       "      <td>0</td>\n",
       "      <td>0</td>\n",
       "      <td>476263</td>\n",
       "    </tr>\n",
       "    <tr>\n",
       "      <th>4</th>\n",
       "      <td>0</td>\n",
       "      <td>0</td>\n",
       "      <td>0</td>\n",
       "      <td>0</td>\n",
       "      <td>0</td>\n",
       "      <td>0</td>\n",
       "      <td>0</td>\n",
       "      <td>0</td>\n",
       "      <td>0</td>\n",
       "      <td>0</td>\n",
       "      <td>...</td>\n",
       "      <td>0</td>\n",
       "      <td>0</td>\n",
       "      <td>0</td>\n",
       "      <td>0</td>\n",
       "      <td>0</td>\n",
       "      <td>0</td>\n",
       "      <td>0</td>\n",
       "      <td>0</td>\n",
       "      <td>0</td>\n",
       "      <td>872928</td>\n",
       "    </tr>\n",
       "  </tbody>\n",
       "</table>\n",
       "<p>5 rows × 13290 columns</p>\n",
       "</div>"
      ],
      "text/plain": [
       "   aaa  ab  abandon  abandoned  abandoning  abandoning climate  abbott  abc  \\\n",
       "0    0   0        0          0           0                   0       0    0   \n",
       "1    0   0        0          0           0                   0       0    0   \n",
       "2    0   0        0          0           0                   0       0    0   \n",
       "3    0   0        0          0           0                   0       0    0   \n",
       "4    0   0        0          0           0                   0       0    0   \n",
       "\n",
       "   abc john  abc news  ...  zealot  zero  zero question  zeroco  zika  zinke  \\\n",
       "0         0         0  ...       0     0              0       0     0      0   \n",
       "1         0         0  ...       0     0              0       0     0      0   \n",
       "2         0         0  ...       0     0              0       1     0      0   \n",
       "3         0         0  ...       0     0              0       0     0      0   \n",
       "4         0         0  ...       0     0              0       0     0      0   \n",
       "\n",
       "   zoe  zone  zone urlweb  tweetid  \n",
       "0    0     0            0   169760  \n",
       "1    0     0            0    35326  \n",
       "2    0     0            0   224985  \n",
       "3    0     0            0   476263  \n",
       "4    0     0            0   872928  \n",
       "\n",
       "[5 rows x 13290 columns]"
      ]
     },
     "execution_count": 89,
     "metadata": {},
     "output_type": "execute_result"
    }
   ],
   "source": [
    "#display vectorised testing dataframe header\n",
    "testing_data_vectorised.head()"
   ]
  },
  {
   "cell_type": "code",
   "execution_count": 90,
   "metadata": {
    "execution": {
     "iopub.execute_input": "2022-10-11T14:12:27.609084Z",
     "iopub.status.busy": "2022-10-11T14:12:27.608716Z",
     "iopub.status.idle": "2022-10-11T14:12:27.625695Z",
     "shell.execute_reply": "2022-10-11T14:12:27.624191Z",
     "shell.execute_reply.started": "2022-10-11T14:12:27.609052Z"
    }
   },
   "outputs": [
    {
     "data": {
      "text/plain": [
       " 1    8530\n",
       " 2    3640\n",
       " 0    2353\n",
       "-1    1296\n",
       "Name: sentiment, dtype: int64"
      ]
     },
     "execution_count": 90,
     "metadata": {},
     "output_type": "execute_result"
    }
   ],
   "source": [
    "#determine observations per response/class \n",
    "counting = training_data_vectorised['sentiment'].value_counts()\n",
    "counting"
   ]
  },
  {
   "cell_type": "code",
   "execution_count": 91,
   "metadata": {
    "execution": {
     "iopub.execute_input": "2022-10-11T14:12:27.627826Z",
     "iopub.status.busy": "2022-10-11T14:12:27.627293Z",
     "iopub.status.idle": "2022-10-11T14:12:27.866638Z",
     "shell.execute_reply": "2022-10-11T14:12:27.865142Z",
     "shell.execute_reply.started": "2022-10-11T14:12:27.627776Z"
    }
   },
   "outputs": [
    {
     "data": {
      "text/plain": [
       "<matplotlib.collections.LineCollection at 0x1adc52cdf40>"
      ]
     },
     "execution_count": 91,
     "metadata": {},
     "output_type": "execute_result"
    },
    {
     "data": {
      "image/png": "[encoded data removed]",
      "text/plain": [
       "<Figure size 432x288 with 1 Axes>"
      ]
     },
     "metadata": {
      "needs_background": "light"
     },
     "output_type": "display_data"
    }
   ],
   "source": [
    "#display observations per response/class\n",
    "plt.bar(counting.index.astype(str),counting.values)\n",
    "plt.hlines(y=8530, xmin=0,xmax=4)"
   ]
  },
  {
   "cell_type": "code",
   "execution_count": 92,
   "metadata": {
    "execution": {
     "iopub.execute_input": "2022-10-11T14:12:27.880335Z",
     "iopub.status.busy": "2022-10-11T14:12:27.879903Z",
     "iopub.status.idle": "2022-10-11T14:12:27.894754Z",
     "shell.execute_reply": "2022-10-11T14:12:27.893342Z",
     "shell.execute_reply.started": "2022-10-11T14:12:27.880266Z"
    }
   },
   "outputs": [
    {
     "data": {
      "text/plain": [
       " 1    8530\n",
       " 2    3640\n",
       " 0    2353\n",
       "-1    1296\n",
       "Name: sentiment, dtype: int64"
      ]
     },
     "execution_count": 92,
     "metadata": {},
     "output_type": "execute_result"
    }
   ],
   "source": [
    "#print out amount per class\n",
    "counting"
   ]
  },
  {
   "cell_type": "code",
   "execution_count": 93,
   "metadata": {},
   "outputs": [
    {
     "data": {
      "text/html": [
       "<div>\n",
       "<style scoped>\n",
       "    .dataframe tbody tr th:only-of-type {\n",
       "        vertical-align: middle;\n",
       "    }\n",
       "\n",
       "    .dataframe tbody tr th {\n",
       "        vertical-align: top;\n",
       "    }\n",
       "\n",
       "    .dataframe thead th {\n",
       "        text-align: right;\n",
       "    }\n",
       "</style>\n",
       "<table border=\"1\" class=\"dataframe\">\n",
       "  <thead>\n",
       "    <tr style=\"text-align: right;\">\n",
       "      <th></th>\n",
       "      <th>aaa</th>\n",
       "      <th>ab</th>\n",
       "      <th>abandon</th>\n",
       "      <th>abandoned</th>\n",
       "      <th>abandoning</th>\n",
       "      <th>abandoning climate</th>\n",
       "      <th>abbott</th>\n",
       "      <th>abc</th>\n",
       "      <th>abc john</th>\n",
       "      <th>abc news</th>\n",
       "      <th>...</th>\n",
       "      <th>zero</th>\n",
       "      <th>zero question</th>\n",
       "      <th>zeroco</th>\n",
       "      <th>zika</th>\n",
       "      <th>zinke</th>\n",
       "      <th>zoe</th>\n",
       "      <th>zone</th>\n",
       "      <th>zone urlweb</th>\n",
       "      <th>tweetid</th>\n",
       "      <th>sentiment</th>\n",
       "    </tr>\n",
       "  </thead>\n",
       "  <tbody>\n",
       "    <tr>\n",
       "      <th>0</th>\n",
       "      <td>0</td>\n",
       "      <td>0</td>\n",
       "      <td>0</td>\n",
       "      <td>0</td>\n",
       "      <td>0</td>\n",
       "      <td>0</td>\n",
       "      <td>0</td>\n",
       "      <td>0</td>\n",
       "      <td>0</td>\n",
       "      <td>0</td>\n",
       "      <td>...</td>\n",
       "      <td>0</td>\n",
       "      <td>0</td>\n",
       "      <td>0</td>\n",
       "      <td>0</td>\n",
       "      <td>0</td>\n",
       "      <td>0</td>\n",
       "      <td>0</td>\n",
       "      <td>0</td>\n",
       "      <td>625221</td>\n",
       "      <td>1</td>\n",
       "    </tr>\n",
       "    <tr>\n",
       "      <th>1</th>\n",
       "      <td>0</td>\n",
       "      <td>0</td>\n",
       "      <td>0</td>\n",
       "      <td>0</td>\n",
       "      <td>0</td>\n",
       "      <td>0</td>\n",
       "      <td>0</td>\n",
       "      <td>0</td>\n",
       "      <td>0</td>\n",
       "      <td>0</td>\n",
       "      <td>...</td>\n",
       "      <td>0</td>\n",
       "      <td>0</td>\n",
       "      <td>0</td>\n",
       "      <td>0</td>\n",
       "      <td>0</td>\n",
       "      <td>0</td>\n",
       "      <td>0</td>\n",
       "      <td>0</td>\n",
       "      <td>126103</td>\n",
       "      <td>1</td>\n",
       "    </tr>\n",
       "    <tr>\n",
       "      <th>2</th>\n",
       "      <td>0</td>\n",
       "      <td>0</td>\n",
       "      <td>0</td>\n",
       "      <td>0</td>\n",
       "      <td>0</td>\n",
       "      <td>0</td>\n",
       "      <td>0</td>\n",
       "      <td>0</td>\n",
       "      <td>0</td>\n",
       "      <td>0</td>\n",
       "      <td>...</td>\n",
       "      <td>0</td>\n",
       "      <td>0</td>\n",
       "      <td>0</td>\n",
       "      <td>0</td>\n",
       "      <td>0</td>\n",
       "      <td>0</td>\n",
       "      <td>0</td>\n",
       "      <td>0</td>\n",
       "      <td>698562</td>\n",
       "      <td>2</td>\n",
       "    </tr>\n",
       "    <tr>\n",
       "      <th>3</th>\n",
       "      <td>0</td>\n",
       "      <td>0</td>\n",
       "      <td>0</td>\n",
       "      <td>0</td>\n",
       "      <td>0</td>\n",
       "      <td>0</td>\n",
       "      <td>0</td>\n",
       "      <td>0</td>\n",
       "      <td>0</td>\n",
       "      <td>0</td>\n",
       "      <td>...</td>\n",
       "      <td>0</td>\n",
       "      <td>0</td>\n",
       "      <td>0</td>\n",
       "      <td>0</td>\n",
       "      <td>0</td>\n",
       "      <td>0</td>\n",
       "      <td>0</td>\n",
       "      <td>0</td>\n",
       "      <td>573736</td>\n",
       "      <td>1</td>\n",
       "    </tr>\n",
       "    <tr>\n",
       "      <th>4</th>\n",
       "      <td>0</td>\n",
       "      <td>0</td>\n",
       "      <td>0</td>\n",
       "      <td>0</td>\n",
       "      <td>0</td>\n",
       "      <td>0</td>\n",
       "      <td>0</td>\n",
       "      <td>0</td>\n",
       "      <td>0</td>\n",
       "      <td>0</td>\n",
       "      <td>...</td>\n",
       "      <td>0</td>\n",
       "      <td>0</td>\n",
       "      <td>0</td>\n",
       "      <td>0</td>\n",
       "      <td>0</td>\n",
       "      <td>0</td>\n",
       "      <td>0</td>\n",
       "      <td>0</td>\n",
       "      <td>466954</td>\n",
       "      <td>1</td>\n",
       "    </tr>\n",
       "    <tr>\n",
       "      <th>...</th>\n",
       "      <td>...</td>\n",
       "      <td>...</td>\n",
       "      <td>...</td>\n",
       "      <td>...</td>\n",
       "      <td>...</td>\n",
       "      <td>...</td>\n",
       "      <td>...</td>\n",
       "      <td>...</td>\n",
       "      <td>...</td>\n",
       "      <td>...</td>\n",
       "      <td>...</td>\n",
       "      <td>...</td>\n",
       "      <td>...</td>\n",
       "      <td>...</td>\n",
       "      <td>...</td>\n",
       "      <td>...</td>\n",
       "      <td>...</td>\n",
       "      <td>...</td>\n",
       "      <td>...</td>\n",
       "      <td>...</td>\n",
       "      <td>...</td>\n",
       "    </tr>\n",
       "    <tr>\n",
       "      <th>15814</th>\n",
       "      <td>0</td>\n",
       "      <td>0</td>\n",
       "      <td>0</td>\n",
       "      <td>0</td>\n",
       "      <td>0</td>\n",
       "      <td>0</td>\n",
       "      <td>0</td>\n",
       "      <td>0</td>\n",
       "      <td>0</td>\n",
       "      <td>0</td>\n",
       "      <td>...</td>\n",
       "      <td>0</td>\n",
       "      <td>0</td>\n",
       "      <td>0</td>\n",
       "      <td>0</td>\n",
       "      <td>0</td>\n",
       "      <td>0</td>\n",
       "      <td>0</td>\n",
       "      <td>0</td>\n",
       "      <td>22001</td>\n",
       "      <td>1</td>\n",
       "    </tr>\n",
       "    <tr>\n",
       "      <th>15815</th>\n",
       "      <td>0</td>\n",
       "      <td>0</td>\n",
       "      <td>0</td>\n",
       "      <td>0</td>\n",
       "      <td>0</td>\n",
       "      <td>0</td>\n",
       "      <td>0</td>\n",
       "      <td>0</td>\n",
       "      <td>0</td>\n",
       "      <td>0</td>\n",
       "      <td>...</td>\n",
       "      <td>0</td>\n",
       "      <td>0</td>\n",
       "      <td>0</td>\n",
       "      <td>0</td>\n",
       "      <td>0</td>\n",
       "      <td>0</td>\n",
       "      <td>0</td>\n",
       "      <td>0</td>\n",
       "      <td>17856</td>\n",
       "      <td>2</td>\n",
       "    </tr>\n",
       "    <tr>\n",
       "      <th>15816</th>\n",
       "      <td>0</td>\n",
       "      <td>0</td>\n",
       "      <td>0</td>\n",
       "      <td>0</td>\n",
       "      <td>0</td>\n",
       "      <td>0</td>\n",
       "      <td>0</td>\n",
       "      <td>0</td>\n",
       "      <td>0</td>\n",
       "      <td>0</td>\n",
       "      <td>...</td>\n",
       "      <td>0</td>\n",
       "      <td>0</td>\n",
       "      <td>0</td>\n",
       "      <td>0</td>\n",
       "      <td>0</td>\n",
       "      <td>0</td>\n",
       "      <td>0</td>\n",
       "      <td>0</td>\n",
       "      <td>384248</td>\n",
       "      <td>0</td>\n",
       "    </tr>\n",
       "    <tr>\n",
       "      <th>15817</th>\n",
       "      <td>0</td>\n",
       "      <td>0</td>\n",
       "      <td>0</td>\n",
       "      <td>0</td>\n",
       "      <td>0</td>\n",
       "      <td>0</td>\n",
       "      <td>0</td>\n",
       "      <td>0</td>\n",
       "      <td>0</td>\n",
       "      <td>0</td>\n",
       "      <td>...</td>\n",
       "      <td>0</td>\n",
       "      <td>0</td>\n",
       "      <td>0</td>\n",
       "      <td>0</td>\n",
       "      <td>0</td>\n",
       "      <td>0</td>\n",
       "      <td>0</td>\n",
       "      <td>0</td>\n",
       "      <td>819732</td>\n",
       "      <td>-1</td>\n",
       "    </tr>\n",
       "    <tr>\n",
       "      <th>15818</th>\n",
       "      <td>0</td>\n",
       "      <td>0</td>\n",
       "      <td>0</td>\n",
       "      <td>0</td>\n",
       "      <td>0</td>\n",
       "      <td>0</td>\n",
       "      <td>0</td>\n",
       "      <td>0</td>\n",
       "      <td>0</td>\n",
       "      <td>0</td>\n",
       "      <td>...</td>\n",
       "      <td>0</td>\n",
       "      <td>0</td>\n",
       "      <td>0</td>\n",
       "      <td>0</td>\n",
       "      <td>0</td>\n",
       "      <td>0</td>\n",
       "      <td>0</td>\n",
       "      <td>0</td>\n",
       "      <td>806319</td>\n",
       "      <td>0</td>\n",
       "    </tr>\n",
       "  </tbody>\n",
       "</table>\n",
       "<p>15819 rows × 13291 columns</p>\n",
       "</div>"
      ],
      "text/plain": [
       "       aaa  ab  abandon  abandoned  abandoning  abandoning climate  abbott  \\\n",
       "0        0   0        0          0           0                   0       0   \n",
       "1        0   0        0          0           0                   0       0   \n",
       "2        0   0        0          0           0                   0       0   \n",
       "3        0   0        0          0           0                   0       0   \n",
       "4        0   0        0          0           0                   0       0   \n",
       "...    ...  ..      ...        ...         ...                 ...     ...   \n",
       "15814    0   0        0          0           0                   0       0   \n",
       "15815    0   0        0          0           0                   0       0   \n",
       "15816    0   0        0          0           0                   0       0   \n",
       "15817    0   0        0          0           0                   0       0   \n",
       "15818    0   0        0          0           0                   0       0   \n",
       "\n",
       "       abc  abc john  abc news  ...  zero  zero question  zeroco  zika  zinke  \\\n",
       "0        0         0         0  ...     0              0       0     0      0   \n",
       "1        0         0         0  ...     0              0       0     0      0   \n",
       "2        0         0         0  ...     0              0       0     0      0   \n",
       "3        0         0         0  ...     0              0       0     0      0   \n",
       "4        0         0         0  ...     0              0       0     0      0   \n",
       "...    ...       ...       ...  ...   ...            ...     ...   ...    ...   \n",
       "15814    0         0         0  ...     0              0       0     0      0   \n",
       "15815    0         0         0  ...     0              0       0     0      0   \n",
       "15816    0         0         0  ...     0              0       0     0      0   \n",
       "15817    0         0         0  ...     0              0       0     0      0   \n",
       "15818    0         0         0  ...     0              0       0     0      0   \n",
       "\n",
       "       zoe  zone  zone urlweb  tweetid  sentiment  \n",
       "0        0     0            0   625221          1  \n",
       "1        0     0            0   126103          1  \n",
       "2        0     0            0   698562          2  \n",
       "3        0     0            0   573736          1  \n",
       "4        0     0            0   466954          1  \n",
       "...    ...   ...          ...      ...        ...  \n",
       "15814    0     0            0    22001          1  \n",
       "15815    0     0            0    17856          2  \n",
       "15816    0     0            0   384248          0  \n",
       "15817    0     0            0   819732         -1  \n",
       "15818    0     0            0   806319          0  \n",
       "\n",
       "[15819 rows x 13291 columns]"
      ]
     },
     "execution_count": 93,
     "metadata": {},
     "output_type": "execute_result"
    }
   ],
   "source": [
    "#display training \n",
    "training_data_vectorised"
   ]
  },
  {
   "cell_type": "code",
   "execution_count": 94,
   "metadata": {
    "execution": {
     "iopub.execute_input": "2022-10-11T14:12:27.896862Z",
     "iopub.status.busy": "2022-10-11T14:12:27.896461Z",
     "iopub.status.idle": "2022-10-11T14:12:28.612967Z",
     "shell.execute_reply": "2022-10-11T14:12:28.611629Z",
     "shell.execute_reply.started": "2022-10-11T14:12:27.896827Z"
    }
   },
   "outputs": [],
   "source": [
    "#create individual training data for each response\n",
    "response_1 = training_data_vectorised[training_data_vectorised['sentiment']==1]\n",
    "response_2 = training_data_vectorised[training_data_vectorised['sentiment']==2]\n",
    "response_0 = training_data_vectorised[training_data_vectorised['sentiment']==0]\n",
    "response_neg_1 = training_data_vectorised[training_data_vectorised['sentiment']==-1]"
   ]
  },
  {
   "cell_type": "code",
   "execution_count": 95,
   "metadata": {
    "execution": {
     "iopub.execute_input": "2022-10-11T14:12:28.617874Z",
     "iopub.status.busy": "2022-10-11T14:12:28.617436Z",
     "iopub.status.idle": "2022-10-11T14:12:28.624875Z",
     "shell.execute_reply": "2022-10-11T14:12:28.622824Z",
     "shell.execute_reply.started": "2022-10-11T14:12:28.617835Z"
    }
   },
   "outputs": [],
   "source": [
    "#use the max observation class to upsample all data\n",
    "middle_response = 8530"
   ]
  },
  {
   "cell_type": "code",
   "execution_count": 96,
   "metadata": {
    "execution": {
     "iopub.execute_input": "2022-10-11T14:12:28.627738Z",
     "iopub.status.busy": "2022-10-11T14:12:28.627170Z",
     "iopub.status.idle": "2022-10-11T14:12:29.931678Z",
     "shell.execute_reply": "2022-10-11T14:12:29.930418Z",
     "shell.execute_reply.started": "2022-10-11T14:12:28.627684Z"
    }
   },
   "outputs": [
    {
     "data": {
      "text/plain": [
       "<BarContainer object of 4 artists>"
      ]
     },
     "execution_count": 96,
     "metadata": {},
     "output_type": "execute_result"
    },
    {
     "data": {
      "image/png": "[encoded data removed]",
      "text/plain": [
       "<Figure size 432x288 with 1 Axes>"
      ]
     },
     "metadata": {
      "needs_background": "light"
     },
     "output_type": "display_data"
    }
   ],
   "source": [
    "#resmaple the different class dataframes\n",
    "response_1_downsample = resample(response_1, replace=False, n_samples= middle_response, random_state=42)\n",
    "response_2_upsample = resample(response_2, replace=True, n_samples= middle_response, random_state=42)\n",
    "response_0_upsample = resample(response_0, replace=True, n_samples= middle_response, random_state=42)\n",
    "response_neg_1_upsample = resample(response_neg_1, replace=True, n_samples= middle_response, random_state=42)\n",
    "#combined the resample datframes\n",
    "train_resampled = pd.concat([response_1_downsample,response_2_upsample,response_0_upsample,response_neg_1_upsample], axis=0)\n",
    "#display resamle class amount of observations\n",
    "plt.bar(train_resampled['sentiment'].value_counts().index.astype(str),train_resampled['sentiment'].value_counts().values)"
   ]
  },
  {
   "cell_type": "code",
   "execution_count": 97,
   "metadata": {
    "execution": {
     "iopub.execute_input": "2022-10-11T14:12:45.460213Z",
     "iopub.status.busy": "2022-10-11T14:12:45.459241Z",
     "iopub.status.idle": "2022-10-11T14:12:45.473375Z",
     "shell.execute_reply": "2022-10-11T14:12:45.472218Z",
     "shell.execute_reply.started": "2022-10-11T14:12:45.460150Z"
    }
   },
   "outputs": [],
   "source": [
    "#remove previous unused dataframes to lower memory usage\n",
    "del response_1\n",
    "del response_2\n",
    "del response_0\n",
    "del response_neg_1\n",
    "del response_1_downsample\n",
    "del response_2_upsample\n",
    "del response_0_upsample\n",
    "del response_neg_1_upsample"
   ]
  },
  {
   "cell_type": "code",
   "execution_count": 98,
   "metadata": {
    "execution": {
     "iopub.execute_input": "2022-10-11T14:12:46.143679Z",
     "iopub.status.busy": "2022-10-11T14:12:46.143199Z",
     "iopub.status.idle": "2022-10-11T14:12:46.475669Z",
     "shell.execute_reply": "2022-10-11T14:12:46.474429Z",
     "shell.execute_reply.started": "2022-10-11T14:12:46.143632Z"
    }
   },
   "outputs": [],
   "source": [
    "#use the train dataset and define the feature and response data\n",
    "X = train_resampled.drop(['tweetid','sentiment'], axis=1)\n",
    "Y = train_resampled['sentiment']"
   ]
  },
  {
   "cell_type": "code",
   "execution_count": 99,
   "metadata": {
    "execution": {
     "iopub.execute_input": "2022-10-11T14:12:49.622583Z",
     "iopub.status.busy": "2022-10-11T14:12:49.621677Z",
     "iopub.status.idle": "2022-10-11T14:12:51.295627Z",
     "shell.execute_reply": "2022-10-11T14:12:51.294316Z",
     "shell.execute_reply.started": "2022-10-11T14:12:49.622543Z"
    }
   },
   "outputs": [
    {
     "data": {
      "text/plain": [
       "(34120, 9297)"
      ]
     },
     "execution_count": 99,
     "metadata": {},
     "output_type": "execute_result"
    }
   ],
   "source": [
    "#implement feature selection for vectorised data\n",
    "threshold = VarianceThreshold(threshold=0.0002)\n",
    "X_threshold_scaled_data = threshold.fit_transform(X)\n",
    "#confirm shape of threshold\n",
    "X_threshold_scaled_data.shape"
   ]
  },
  {
   "cell_type": "markdown",
   "metadata": {},
   "source": [
    "**Model testing**\n",
    "\n",
    "Note: All classifiers model cross validations takes long"
   ]
  },
  {
   "cell_type": "code",
   "execution_count": 31,
   "metadata": {},
   "outputs": [
    {
     "name": "stdout",
     "output_type": "stream",
     "text": [
      "Model: LR\n"
     ]
    },
    {
     "name": "stderr",
     "output_type": "stream",
     "text": [
      "C:\\Users\\jeanj\\Anaconda3\\lib\\site-packages\\sklearn\\linear_model\\_logistic.py:444: ConvergenceWarning: lbfgs failed to converge (status=1):\n",
      "STOP: TOTAL NO. of ITERATIONS REACHED LIMIT.\n",
      "\n",
      "Increase the number of iterations (max_iter) or scale the data as shown in:\n",
      "    https://scikit-learn.org/stable/modules/preprocessing.html\n",
      "Please also refer to the documentation for alternative solver options:\n",
      "    https://scikit-learn.org/stable/modules/linear_model.html#logistic-regression\n",
      "  n_iter_i = _check_optimize_result(\n",
      "C:\\Users\\jeanj\\Anaconda3\\lib\\site-packages\\sklearn\\linear_model\\_logistic.py:444: ConvergenceWarning: lbfgs failed to converge (status=1):\n",
      "STOP: TOTAL NO. of ITERATIONS REACHED LIMIT.\n",
      "\n",
      "Increase the number of iterations (max_iter) or scale the data as shown in:\n",
      "    https://scikit-learn.org/stable/modules/preprocessing.html\n",
      "Please also refer to the documentation for alternative solver options:\n",
      "    https://scikit-learn.org/stable/modules/linear_model.html#logistic-regression\n",
      "  n_iter_i = _check_optimize_result(\n",
      "C:\\Users\\jeanj\\Anaconda3\\lib\\site-packages\\sklearn\\linear_model\\_logistic.py:444: ConvergenceWarning: lbfgs failed to converge (status=1):\n",
      "STOP: TOTAL NO. of ITERATIONS REACHED LIMIT.\n",
      "\n",
      "Increase the number of iterations (max_iter) or scale the data as shown in:\n",
      "    https://scikit-learn.org/stable/modules/preprocessing.html\n",
      "Please also refer to the documentation for alternative solver options:\n",
      "    https://scikit-learn.org/stable/modules/linear_model.html#logistic-regression\n",
      "  n_iter_i = _check_optimize_result(\n"
     ]
    },
    {
     "name": "stdout",
     "output_type": "stream",
     "text": [
      "Model: DecisionTreeC\n",
      "Model: RandomForestC\n",
      "Model: SVC\n"
     ]
    },
    {
     "name": "stderr",
     "output_type": "stream",
     "text": [
      "C:\\Users\\jeanj\\Anaconda3\\lib\\site-packages\\sklearn\\svm\\_base.py:301: ConvergenceWarning: Solver terminated early (max_iter=50).  Consider pre-processing your data with StandardScaler or MinMaxScaler.\n",
      "  warnings.warn(\n",
      "C:\\Users\\jeanj\\Anaconda3\\lib\\site-packages\\sklearn\\svm\\_base.py:301: ConvergenceWarning: Solver terminated early (max_iter=50).  Consider pre-processing your data with StandardScaler or MinMaxScaler.\n",
      "  warnings.warn(\n",
      "C:\\Users\\jeanj\\Anaconda3\\lib\\site-packages\\sklearn\\svm\\_base.py:301: ConvergenceWarning: Solver terminated early (max_iter=50).  Consider pre-processing your data with StandardScaler or MinMaxScaler.\n",
      "  warnings.warn(\n"
     ]
    },
    {
     "name": "stdout",
     "output_type": "stream",
     "text": [
      "Model: naive_bayes\n",
      "Model: KNN\n",
      "Model: MLPC\n",
      "Model: XGBoost\n",
      "Model: lgbm_model\n",
      "Model: OneVsRestClassifier\n"
     ]
    },
    {
     "name": "stderr",
     "output_type": "stream",
     "text": [
      "C:\\Users\\jeanj\\Anaconda3\\lib\\site-packages\\sklearn\\svm\\_base.py:301: ConvergenceWarning: Solver terminated early (max_iter=50).  Consider pre-processing your data with StandardScaler or MinMaxScaler.\n",
      "  warnings.warn(\n",
      "C:\\Users\\jeanj\\Anaconda3\\lib\\site-packages\\sklearn\\svm\\_base.py:301: ConvergenceWarning: Solver terminated early (max_iter=50).  Consider pre-processing your data with StandardScaler or MinMaxScaler.\n",
      "  warnings.warn(\n",
      "C:\\Users\\jeanj\\Anaconda3\\lib\\site-packages\\sklearn\\svm\\_base.py:301: ConvergenceWarning: Solver terminated early (max_iter=50).  Consider pre-processing your data with StandardScaler or MinMaxScaler.\n",
      "  warnings.warn(\n",
      "C:\\Users\\jeanj\\Anaconda3\\lib\\site-packages\\sklearn\\svm\\_base.py:301: ConvergenceWarning: Solver terminated early (max_iter=50).  Consider pre-processing your data with StandardScaler or MinMaxScaler.\n",
      "  warnings.warn(\n",
      "C:\\Users\\jeanj\\Anaconda3\\lib\\site-packages\\sklearn\\svm\\_base.py:301: ConvergenceWarning: Solver terminated early (max_iter=50).  Consider pre-processing your data with StandardScaler or MinMaxScaler.\n",
      "  warnings.warn(\n",
      "C:\\Users\\jeanj\\Anaconda3\\lib\\site-packages\\sklearn\\svm\\_base.py:301: ConvergenceWarning: Solver terminated early (max_iter=50).  Consider pre-processing your data with StandardScaler or MinMaxScaler.\n",
      "  warnings.warn(\n",
      "C:\\Users\\jeanj\\Anaconda3\\lib\\site-packages\\sklearn\\svm\\_base.py:301: ConvergenceWarning: Solver terminated early (max_iter=50).  Consider pre-processing your data with StandardScaler or MinMaxScaler.\n",
      "  warnings.warn(\n",
      "C:\\Users\\jeanj\\Anaconda3\\lib\\site-packages\\sklearn\\svm\\_base.py:301: ConvergenceWarning: Solver terminated early (max_iter=50).  Consider pre-processing your data with StandardScaler or MinMaxScaler.\n",
      "  warnings.warn(\n",
      "C:\\Users\\jeanj\\Anaconda3\\lib\\site-packages\\sklearn\\svm\\_base.py:301: ConvergenceWarning: Solver terminated early (max_iter=50).  Consider pre-processing your data with StandardScaler or MinMaxScaler.\n",
      "  warnings.warn(\n",
      "C:\\Users\\jeanj\\Anaconda3\\lib\\site-packages\\sklearn\\svm\\_base.py:301: ConvergenceWarning: Solver terminated early (max_iter=50).  Consider pre-processing your data with StandardScaler or MinMaxScaler.\n",
      "  warnings.warn(\n",
      "C:\\Users\\jeanj\\Anaconda3\\lib\\site-packages\\sklearn\\svm\\_base.py:301: ConvergenceWarning: Solver terminated early (max_iter=50).  Consider pre-processing your data with StandardScaler or MinMaxScaler.\n",
      "  warnings.warn(\n",
      "C:\\Users\\jeanj\\Anaconda3\\lib\\site-packages\\sklearn\\svm\\_base.py:301: ConvergenceWarning: Solver terminated early (max_iter=50).  Consider pre-processing your data with StandardScaler or MinMaxScaler.\n",
      "  warnings.warn(\n"
     ]
    }
   ],
   "source": [
    "#Create a list of all model instances\n",
    "#Adaboost removed, took to long to process\n",
    "models = [LogisticRegression()\n",
    "          ,DecisionTreeClassifier()\n",
    "          ,RandomForestClassifier()\n",
    "          ,SVC(max_iter=50)\n",
    "          ,GaussianNB()\n",
    "          ,KNeighborsClassifier()\n",
    "          ,MLPClassifier()\n",
    "          ,XGBClassifier()\n",
    "          ,LGBMClassifier()\n",
    "          ,OneVsRestClassifier(SVC(max_iter=50))]\n",
    "\n",
    "#empty result list to save results\n",
    "result = []\n",
    "#Create a list of all model names\n",
    "model_names = ['LR','DecisionTreeC','RandomForestC','SVC','naive_bayes','KNN','MLPC'\n",
    "               ,'XGBoost','lgbm_model','OneVsRestClassifier']\n",
    "\n",
    "#Create a tuple for each model name and instance and complete and used cross validation to measure model\n",
    "for name, model in zip(model_names, models):\n",
    "    if name == 'XGBoost':\n",
    "        print(fr\"Model: {name}\")\n",
    "        scores = cross_val_score(model, X_threshold_scaled_data, Y+1, cv=3, scoring= make_scorer(metrics.f1_score, average='macro'))\n",
    "        mean_f1_score_score = scores.mean()\n",
    "        std_score_score = scores.std()\n",
    "        result.append([name, mean_f1_score_score, std_score_score])\n",
    "    else:\n",
    "        print(fr\"Model: {name}\")\n",
    "        scores = cross_val_score(model, X_threshold_scaled_data, Y, cv=3, scoring= make_scorer(metrics.f1_score, average='macro'))\n",
    "        mean_f1_score_score = scores.mean()\n",
    "        std_score_score = scores.std()\n",
    "        result.append([name, mean_f1_score_score, std_score_score])"
   ]
  },
  {
   "cell_type": "code",
   "execution_count": 65,
   "metadata": {},
   "outputs": [
    {
     "data": {
      "text/plain": [
       "[['LR', 0.8900128887906824, 0.0017075103182687412],\n",
       " ['DecisionTreeC', 0.8797679742045293, 0.0024619134133815005],\n",
       " ['RandomForestC', 0.8945353831296203, 0.002498188975552828],\n",
       " ['SVC', 0.24957815292406282, 0.012443219056906027],\n",
       " ['naive_bayes', 0.7874661708269661, 0.0024212177482696036],\n",
       " ['KNN', 0.657605285614239, 0.012151591177479227],\n",
       " ['MLPC', 0.9055289137860206, 0.0018644144003853915],\n",
       " ['XGBoost', 0.7555288021550765, 0.004089065171725532],\n",
       " ['lgbm_model', 0.7586583699261938, 0.005806763695842867],\n",
       " ['OneVsRestClassifier', 0.25276649021004843, 0.015923772471949732]]"
      ]
     },
     "execution_count": 65,
     "metadata": {},
     "output_type": "execute_result"
    }
   ],
   "source": [
    "#show result from cross validation\n",
    "result"
   ]
  },
  {
   "cell_type": "code",
   "execution_count": 66,
   "metadata": {},
   "outputs": [],
   "source": [
    "#Add results to a dataframe\n",
    "results_df = pd.DataFrame(result, columns=[name, mean_f1_score_score, std_score_score])"
   ]
  },
  {
   "cell_type": "code",
   "execution_count": 67,
   "metadata": {},
   "outputs": [
    {
     "data": {
      "text/html": [
       "<div>\n",
       "<style scoped>\n",
       "    .dataframe tbody tr th:only-of-type {\n",
       "        vertical-align: middle;\n",
       "    }\n",
       "\n",
       "    .dataframe tbody tr th {\n",
       "        vertical-align: top;\n",
       "    }\n",
       "\n",
       "    .dataframe thead th {\n",
       "        text-align: right;\n",
       "    }\n",
       "</style>\n",
       "<table border=\"1\" class=\"dataframe\">\n",
       "  <thead>\n",
       "    <tr style=\"text-align: right;\">\n",
       "      <th></th>\n",
       "      <th>name</th>\n",
       "      <th>mean_f1_score_score</th>\n",
       "      <th>std_score_score</th>\n",
       "    </tr>\n",
       "  </thead>\n",
       "  <tbody>\n",
       "    <tr>\n",
       "      <th>6</th>\n",
       "      <td>MLPC</td>\n",
       "      <td>0.905529</td>\n",
       "      <td>0.001864</td>\n",
       "    </tr>\n",
       "    <tr>\n",
       "      <th>2</th>\n",
       "      <td>RandomForestC</td>\n",
       "      <td>0.894535</td>\n",
       "      <td>0.002498</td>\n",
       "    </tr>\n",
       "    <tr>\n",
       "      <th>0</th>\n",
       "      <td>LR</td>\n",
       "      <td>0.890013</td>\n",
       "      <td>0.001708</td>\n",
       "    </tr>\n",
       "    <tr>\n",
       "      <th>1</th>\n",
       "      <td>DecisionTreeC</td>\n",
       "      <td>0.879768</td>\n",
       "      <td>0.002462</td>\n",
       "    </tr>\n",
       "    <tr>\n",
       "      <th>4</th>\n",
       "      <td>naive_bayes</td>\n",
       "      <td>0.787466</td>\n",
       "      <td>0.002421</td>\n",
       "    </tr>\n",
       "    <tr>\n",
       "      <th>8</th>\n",
       "      <td>lgbm_model</td>\n",
       "      <td>0.758658</td>\n",
       "      <td>0.005807</td>\n",
       "    </tr>\n",
       "    <tr>\n",
       "      <th>7</th>\n",
       "      <td>XGBoost</td>\n",
       "      <td>0.755529</td>\n",
       "      <td>0.004089</td>\n",
       "    </tr>\n",
       "    <tr>\n",
       "      <th>5</th>\n",
       "      <td>KNN</td>\n",
       "      <td>0.657605</td>\n",
       "      <td>0.012152</td>\n",
       "    </tr>\n",
       "    <tr>\n",
       "      <th>9</th>\n",
       "      <td>OneVsRestClassifier</td>\n",
       "      <td>0.252766</td>\n",
       "      <td>0.015924</td>\n",
       "    </tr>\n",
       "    <tr>\n",
       "      <th>3</th>\n",
       "      <td>SVC</td>\n",
       "      <td>0.249578</td>\n",
       "      <td>0.012443</td>\n",
       "    </tr>\n",
       "  </tbody>\n",
       "</table>\n",
       "</div>"
      ],
      "text/plain": [
       "                  name  mean_f1_score_score  std_score_score\n",
       "6                 MLPC             0.905529         0.001864\n",
       "2        RandomForestC             0.894535         0.002498\n",
       "0                   LR             0.890013         0.001708\n",
       "1        DecisionTreeC             0.879768         0.002462\n",
       "4          naive_bayes             0.787466         0.002421\n",
       "8           lgbm_model             0.758658         0.005807\n",
       "7              XGBoost             0.755529         0.004089\n",
       "5                  KNN             0.657605         0.012152\n",
       "9  OneVsRestClassifier             0.252766         0.015924\n",
       "3                  SVC             0.249578         0.012443"
      ]
     },
     "execution_count": 67,
     "metadata": {},
     "output_type": "execute_result"
    }
   ],
   "source": [
    "#save results to an excel file\n",
    "results_df.columns = ['name', 'mean_f1_score_score', 'std_score_score']\n",
    "results_df.to_excel('results_notebook.xlsx')\n",
    "results_df.sort_values('mean_f1_score_score',ascending=False)"
   ]
  },
  {
   "cell_type": "markdown",
   "metadata": {},
   "source": [
    "**Hyperparameter tuning**"
   ]
  },
  {
   "cell_type": "markdown",
   "metadata": {},
   "source": [
    "calculate_grid function will be used to calculate results from gridsearch using different parameters"
   ]
  },
  {
   "cell_type": "code",
   "execution_count": 100,
   "metadata": {
    "execution": {
     "iopub.execute_input": "2022-10-11T14:13:33.714986Z",
     "iopub.status.busy": "2022-10-11T14:13:33.714456Z",
     "iopub.status.idle": "2022-10-11T14:13:33.726461Z",
     "shell.execute_reply": "2022-10-11T14:13:33.724173Z",
     "shell.execute_reply.started": "2022-10-11T14:13:33.714934Z"
    }
   },
   "outputs": [],
   "source": [
    "def calculate_grid(estimator_used, parameters_chosen):\n",
    "    #Use gridsearch to calculate Macro f1 score\n",
    "    gridsearch = GridSearchCV(estimator=estimator_used, param_grid= parameters_chosen,scoring = make_scorer(metrics.f1_score, average='macro'), cv = 3, return_train_score=True)\n",
    "    gridsearch.fit(X_threshold_scaled_data,Y)\n",
    "    #Add results to dataframe and save to excel\n",
    "    grid_results = pd.DataFrame(gridsearch.cv_results_)\n",
    "    grid_results.to_excel('grid results.xlsx', index=False)\n",
    "    #save mean and standard dev train and test scores\n",
    "    view_mean = grid_results[['mean_train_score', 'mean_test_score','std_train_score', 'std_test_score']]\n",
    "    #display best parameters\n",
    "    print(f'\\n{gridsearch.best_params_}')\n",
    "    #print mean and standard dev train and test scores\n",
    "    print(f'\\n{view_mean}\\n')\n",
    "    #print mean train and test scores\n",
    "    plt.plot(view_mean['mean_train_score'])\n",
    "    plt.plot(view_mean['mean_test_score'])"
   ]
  },
  {
   "cell_type": "markdown",
   "metadata": {},
   "source": [
    "Testing Data"
   ]
  },
  {
   "cell_type": "code",
   "execution_count": 101,
   "metadata": {},
   "outputs": [
    {
     "data": {
      "text/html": [
       "<div>\n",
       "<style scoped>\n",
       "    .dataframe tbody tr th:only-of-type {\n",
       "        vertical-align: middle;\n",
       "    }\n",
       "\n",
       "    .dataframe tbody tr th {\n",
       "        vertical-align: top;\n",
       "    }\n",
       "\n",
       "    .dataframe thead th {\n",
       "        text-align: right;\n",
       "    }\n",
       "</style>\n",
       "<table border=\"1\" class=\"dataframe\">\n",
       "  <thead>\n",
       "    <tr style=\"text-align: right;\">\n",
       "      <th></th>\n",
       "      <th>aaa</th>\n",
       "      <th>ab</th>\n",
       "      <th>abandon</th>\n",
       "      <th>abandoned</th>\n",
       "      <th>abandoning</th>\n",
       "      <th>abandoning climate</th>\n",
       "      <th>abbott</th>\n",
       "      <th>abc</th>\n",
       "      <th>abc john</th>\n",
       "      <th>abc news</th>\n",
       "      <th>...</th>\n",
       "      <th>zealot</th>\n",
       "      <th>zero</th>\n",
       "      <th>zero question</th>\n",
       "      <th>zeroco</th>\n",
       "      <th>zika</th>\n",
       "      <th>zinke</th>\n",
       "      <th>zoe</th>\n",
       "      <th>zone</th>\n",
       "      <th>zone urlweb</th>\n",
       "      <th>tweetid</th>\n",
       "    </tr>\n",
       "  </thead>\n",
       "  <tbody>\n",
       "    <tr>\n",
       "      <th>0</th>\n",
       "      <td>0</td>\n",
       "      <td>0</td>\n",
       "      <td>0</td>\n",
       "      <td>0</td>\n",
       "      <td>0</td>\n",
       "      <td>0</td>\n",
       "      <td>0</td>\n",
       "      <td>0</td>\n",
       "      <td>0</td>\n",
       "      <td>0</td>\n",
       "      <td>...</td>\n",
       "      <td>0</td>\n",
       "      <td>0</td>\n",
       "      <td>0</td>\n",
       "      <td>0</td>\n",
       "      <td>0</td>\n",
       "      <td>0</td>\n",
       "      <td>0</td>\n",
       "      <td>0</td>\n",
       "      <td>0</td>\n",
       "      <td>169760</td>\n",
       "    </tr>\n",
       "    <tr>\n",
       "      <th>1</th>\n",
       "      <td>0</td>\n",
       "      <td>0</td>\n",
       "      <td>0</td>\n",
       "      <td>0</td>\n",
       "      <td>0</td>\n",
       "      <td>0</td>\n",
       "      <td>0</td>\n",
       "      <td>0</td>\n",
       "      <td>0</td>\n",
       "      <td>0</td>\n",
       "      <td>...</td>\n",
       "      <td>0</td>\n",
       "      <td>0</td>\n",
       "      <td>0</td>\n",
       "      <td>0</td>\n",
       "      <td>0</td>\n",
       "      <td>0</td>\n",
       "      <td>0</td>\n",
       "      <td>0</td>\n",
       "      <td>0</td>\n",
       "      <td>35326</td>\n",
       "    </tr>\n",
       "    <tr>\n",
       "      <th>2</th>\n",
       "      <td>0</td>\n",
       "      <td>0</td>\n",
       "      <td>0</td>\n",
       "      <td>0</td>\n",
       "      <td>0</td>\n",
       "      <td>0</td>\n",
       "      <td>0</td>\n",
       "      <td>0</td>\n",
       "      <td>0</td>\n",
       "      <td>0</td>\n",
       "      <td>...</td>\n",
       "      <td>0</td>\n",
       "      <td>0</td>\n",
       "      <td>0</td>\n",
       "      <td>1</td>\n",
       "      <td>0</td>\n",
       "      <td>0</td>\n",
       "      <td>0</td>\n",
       "      <td>0</td>\n",
       "      <td>0</td>\n",
       "      <td>224985</td>\n",
       "    </tr>\n",
       "    <tr>\n",
       "      <th>3</th>\n",
       "      <td>0</td>\n",
       "      <td>0</td>\n",
       "      <td>0</td>\n",
       "      <td>0</td>\n",
       "      <td>0</td>\n",
       "      <td>0</td>\n",
       "      <td>0</td>\n",
       "      <td>0</td>\n",
       "      <td>0</td>\n",
       "      <td>0</td>\n",
       "      <td>...</td>\n",
       "      <td>0</td>\n",
       "      <td>0</td>\n",
       "      <td>0</td>\n",
       "      <td>0</td>\n",
       "      <td>0</td>\n",
       "      <td>0</td>\n",
       "      <td>0</td>\n",
       "      <td>0</td>\n",
       "      <td>0</td>\n",
       "      <td>476263</td>\n",
       "    </tr>\n",
       "    <tr>\n",
       "      <th>4</th>\n",
       "      <td>0</td>\n",
       "      <td>0</td>\n",
       "      <td>0</td>\n",
       "      <td>0</td>\n",
       "      <td>0</td>\n",
       "      <td>0</td>\n",
       "      <td>0</td>\n",
       "      <td>0</td>\n",
       "      <td>0</td>\n",
       "      <td>0</td>\n",
       "      <td>...</td>\n",
       "      <td>0</td>\n",
       "      <td>0</td>\n",
       "      <td>0</td>\n",
       "      <td>0</td>\n",
       "      <td>0</td>\n",
       "      <td>0</td>\n",
       "      <td>0</td>\n",
       "      <td>0</td>\n",
       "      <td>0</td>\n",
       "      <td>872928</td>\n",
       "    </tr>\n",
       "  </tbody>\n",
       "</table>\n",
       "<p>5 rows × 13290 columns</p>\n",
       "</div>"
      ],
      "text/plain": [
       "   aaa  ab  abandon  abandoned  abandoning  abandoning climate  abbott  abc  \\\n",
       "0    0   0        0          0           0                   0       0    0   \n",
       "1    0   0        0          0           0                   0       0    0   \n",
       "2    0   0        0          0           0                   0       0    0   \n",
       "3    0   0        0          0           0                   0       0    0   \n",
       "4    0   0        0          0           0                   0       0    0   \n",
       "\n",
       "   abc john  abc news  ...  zealot  zero  zero question  zeroco  zika  zinke  \\\n",
       "0         0         0  ...       0     0              0       0     0      0   \n",
       "1         0         0  ...       0     0              0       0     0      0   \n",
       "2         0         0  ...       0     0              0       1     0      0   \n",
       "3         0         0  ...       0     0              0       0     0      0   \n",
       "4         0         0  ...       0     0              0       0     0      0   \n",
       "\n",
       "   zoe  zone  zone urlweb  tweetid  \n",
       "0    0     0            0   169760  \n",
       "1    0     0            0    35326  \n",
       "2    0     0            0   224985  \n",
       "3    0     0            0   476263  \n",
       "4    0     0            0   872928  \n",
       "\n",
       "[5 rows x 13290 columns]"
      ]
     },
     "execution_count": 101,
     "metadata": {},
     "output_type": "execute_result"
    }
   ],
   "source": [
    "#print vectorised testing data\n",
    "testing_data_vectorised.head()"
   ]
  },
  {
   "cell_type": "code",
   "execution_count": 102,
   "metadata": {
    "execution": {
     "iopub.execute_input": "2022-10-11T14:13:33.731744Z",
     "iopub.status.busy": "2022-10-11T14:13:33.730582Z",
     "iopub.status.idle": "2022-10-11T14:13:34.263637Z",
     "shell.execute_reply": "2022-10-11T14:13:34.262063Z",
     "shell.execute_reply.started": "2022-10-11T14:13:33.731686Z"
    }
   },
   "outputs": [
    {
     "name": "stdout",
     "output_type": "stream",
     "text": [
      "Creating testing data\n",
      "(10546, 9297)\n"
     ]
    },
    {
     "data": {
      "text/plain": [
       "array([[0, 0, 0, ..., 0, 0, 0],\n",
       "       [0, 0, 0, ..., 0, 0, 0],\n",
       "       [0, 0, 0, ..., 0, 0, 0],\n",
       "       ...,\n",
       "       [0, 0, 0, ..., 0, 0, 0],\n",
       "       [0, 0, 0, ..., 0, 0, 0],\n",
       "       [0, 0, 0, ..., 0, 0, 0]], dtype=int64)"
      ]
     },
     "execution_count": 102,
     "metadata": {},
     "output_type": "execute_result"
    }
   ],
   "source": [
    "#preprocess all testing data\n",
    "print(\"Creating testing data\")\n",
    "#remove tweetid from testing data\n",
    "X_testing_data = testing_data_vectorised.drop(['tweetid'], axis=1)\n",
    "#feature selection transform testing data\n",
    "X_testing_data =  threshold.transform(X_testing_data)\n",
    "#confirm shape of testing data preprocessed\n",
    "print(X_testing_data.shape)\n",
    "X_testing_data"
   ]
  },
  {
   "cell_type": "markdown",
   "metadata": {},
   "source": [
    "DecisionTreeClassifier"
   ]
  },
  {
   "cell_type": "code",
   "execution_count": 71,
   "metadata": {},
   "outputs": [
    {
     "name": "stderr",
     "output_type": "stream",
     "text": [
      "C:\\Users\\jeanj\\Anaconda3\\lib\\site-packages\\sklearn\\tree\\_classes.py:298: FutureWarning: `max_features='auto'` has been deprecated in 1.1 and will be removed in 1.3. To keep the past behaviour, explicitly set `max_features='sqrt'`.\n",
      "  warnings.warn(\n",
      "C:\\Users\\jeanj\\Anaconda3\\lib\\site-packages\\sklearn\\tree\\_classes.py:298: FutureWarning: `max_features='auto'` has been deprecated in 1.1 and will be removed in 1.3. To keep the past behaviour, explicitly set `max_features='sqrt'`.\n",
      "  warnings.warn(\n",
      "C:\\Users\\jeanj\\Anaconda3\\lib\\site-packages\\sklearn\\tree\\_classes.py:298: FutureWarning: `max_features='auto'` has been deprecated in 1.1 and will be removed in 1.3. To keep the past behaviour, explicitly set `max_features='sqrt'`.\n",
      "  warnings.warn(\n",
      "C:\\Users\\jeanj\\Anaconda3\\lib\\site-packages\\sklearn\\tree\\_classes.py:298: FutureWarning: `max_features='auto'` has been deprecated in 1.1 and will be removed in 1.3. To keep the past behaviour, explicitly set `max_features='sqrt'`.\n",
      "  warnings.warn(\n",
      "C:\\Users\\jeanj\\Anaconda3\\lib\\site-packages\\sklearn\\tree\\_classes.py:298: FutureWarning: `max_features='auto'` has been deprecated in 1.1 and will be removed in 1.3. To keep the past behaviour, explicitly set `max_features='sqrt'`.\n",
      "  warnings.warn(\n",
      "C:\\Users\\jeanj\\Anaconda3\\lib\\site-packages\\sklearn\\tree\\_classes.py:298: FutureWarning: `max_features='auto'` has been deprecated in 1.1 and will be removed in 1.3. To keep the past behaviour, explicitly set `max_features='sqrt'`.\n",
      "  warnings.warn(\n",
      "C:\\Users\\jeanj\\Anaconda3\\lib\\site-packages\\sklearn\\tree\\_classes.py:298: FutureWarning: `max_features='auto'` has been deprecated in 1.1 and will be removed in 1.3. To keep the past behaviour, explicitly set `max_features='sqrt'`.\n",
      "  warnings.warn(\n"
     ]
    },
    {
     "name": "stdout",
     "output_type": "stream",
     "text": [
      "\n",
      "{'ccp_alpha': 0.0, 'criterion': 'entropy', 'max_features': 'auto', 'min_impurity_decrease': 0.0, 'min_samples_leaf': 1, 'min_samples_split': 2}\n",
      "\n",
      "   mean_train_score  mean_test_score  std_train_score  std_test_score\n",
      "0          0.997934         0.867777         0.000036        0.004433\n",
      "1          0.770968         0.710183         0.006049        0.006725\n",
      "\n"
     ]
    },
    {
     "data": {
      "image/png": "[encoded data removed]",
      "text/plain": [
       "<Figure size 432x288 with 1 Axes>"
      ]
     },
     "metadata": {
      "needs_background": "light"
     },
     "output_type": "display_data"
    }
   ],
   "source": [
    "#iteration used to create unique values for parameter grid\n",
    "iteration = [int(round(i,0)) for i in np.linspace(300, 550, 50)]\n",
    "#identify parameters to test\n",
    "parameter_grid = {'criterion': ['entropy'], 'min_samples_split' :[2], 'min_samples_leaf':[1,2], 'max_features' : ['auto'], \n",
    "                  'min_impurity_decrease':[0.0], 'ccp_alpha':[0.0]}\n",
    "#calculate best parameters\n",
    "calculate_grid(DecisionTreeClassifier(),parameter_grid)"
   ]
  },
  {
   "cell_type": "code",
   "execution_count": 72,
   "metadata": {},
   "outputs": [
    {
     "name": "stderr",
     "output_type": "stream",
     "text": [
      "C:\\Users\\jeanj\\Anaconda3\\lib\\site-packages\\sklearn\\tree\\_classes.py:298: FutureWarning: `max_features='auto'` has been deprecated in 1.1 and will be removed in 1.3. To keep the past behaviour, explicitly set `max_features='sqrt'`.\n",
      "  warnings.warn(\n"
     ]
    },
    {
     "name": "stdout",
     "output_type": "stream",
     "text": [
      "Done\n"
     ]
    }
   ],
   "source": [
    "#test decison tree on adjusted parameters\n",
    "dt_clf =  DecisionTreeClassifier(ccp_alpha= 0.0, criterion= 'entropy', max_features= 'auto', min_impurity_decrease= 0.0, min_samples_leaf= 1, min_samples_split= 2, random_state=42)\n",
    "dt_clf.fit(X_threshold_scaled_data,Y)\n",
    "y_pred = dt_clf.predict(X_testing_data)\n",
    "#Convert results to dataframe and save as csv\n",
    "result_testing = testing_data.copy()\n",
    "result_testing['sentiment'] = y_pred\n",
    "result_testing = result_testing[['tweetid','sentiment']]\n",
    "result_testing.to_csv('dt_clf.csv', index=False)\n",
    "print('Done')"
   ]
  },
  {
   "cell_type": "markdown",
   "metadata": {},
   "source": [
    "RandomForest non standardised data and threshold of 0.002"
   ]
  },
  {
   "cell_type": "code",
   "execution_count": 34,
   "metadata": {},
   "outputs": [
    {
     "name": "stdout",
     "output_type": "stream",
     "text": [
      "\n",
      "{'criterion': 'entropy', 'n_estimators': 100}\n",
      "\n",
      "   mean_train_score  mean_test_score  std_train_score  std_test_score\n",
      "0          0.993930         0.874702         0.000179        0.001439\n",
      "1          0.997934         0.893145         0.000036        0.003579\n",
      "\n"
     ]
    },
    {
     "data": {
      "image/png": "[encoded data removed]",
      "text/plain": [
       "<Figure size 432x288 with 1 Axes>"
      ]
     },
     "metadata": {
      "needs_background": "light"
     },
     "output_type": "display_data"
    }
   ],
   "source": [
    "#iteration used to create unique values for parameter grid\n",
    "iteration = [int(round(i,0)) for i in np.linspace(100, 200, 10)]\n",
    "#define parameters\n",
    "parameter_grid = {'n_estimators' : [10,100], 'criterion': ['entropy']}\n",
    "#calculate best parameters\n",
    "calculate_grid(RandomForestClassifier(), parameter_grid)"
   ]
  },
  {
   "cell_type": "code",
   "execution_count": 35,
   "metadata": {},
   "outputs": [
    {
     "name": "stdout",
     "output_type": "stream",
     "text": [
      "Done\n"
     ]
    }
   ],
   "source": [
    "#test random forest on adjusted parameters\n",
    "rf_clf =  RandomForestClassifier(n_estimators= 100 ,criterion= 'entropy', random_state=42)\n",
    "rf_clf.fit(X_threshold_scaled_data,Y)\n",
    "y_pred = rf_clf.predict(X_testing_data)\n",
    "y_pred\n",
    "#Convert results to dataframe and save as csv\n",
    "result_testing = testing_data.copy()\n",
    "result_testing['sentiment'] = y_pred\n",
    "result_testing = result_testing[['tweetid','sentiment']]\n",
    "result_testing.to_csv('rf_clf.csv', index=False)\n",
    "print('Done')\n"
   ]
  },
  {
   "cell_type": "markdown",
   "metadata": {},
   "source": [
    "MLP classifier"
   ]
  },
  {
   "cell_type": "code",
   "execution_count": 103,
   "metadata": {},
   "outputs": [
    {
     "name": "stdout",
     "output_type": "stream",
     "text": [
      "Done\n"
     ]
    }
   ],
   "source": [
    "#test MLP on adjusted parameters\n",
    "MLP_clf =  MLPClassifier(\n",
    "    hidden_layer_sizes = (300,200,100), \n",
    "    max_iter= 100,\n",
    "    activation= 'relu',\n",
    "    solver= 'adam', \n",
    "    alpha= 0.001,\n",
    "    learning_rate= 'adaptive', random_state=42)\n",
    "#Convert results to dataframe and save as csv\n",
    "MLP_clf.fit(X_threshold_scaled_data,Y)\n",
    "y_pred = MLP_clf.predict(X_testing_data)\n",
    "y_pred\n",
    "\n",
    "result_testing = testing_data.copy()\n",
    "result_testing['sentiment'] = y_pred\n",
    "result_testing = result_testing[['tweetid','sentiment']]\n",
    "result_testing.to_csv('MLP_clf.csv', index=False)\n",
    "print('Done')"
   ]
  },
  {
   "cell_type": "code",
   "execution_count": 104,
   "metadata": {},
   "outputs": [
    {
     "name": "stdout",
     "output_type": "stream",
     "text": [
      "Epoch 1/4\n",
      "308/308 [==============================] - 14s 45ms/step - loss: 0.5359 - accuracy: 0.7934 - val_loss: 0.2059 - val_accuracy: 0.9437\n",
      "Epoch 2/4\n",
      "308/308 [==============================] - 13s 41ms/step - loss: 0.1147 - accuracy: 0.9635 - val_loss: 0.1344 - val_accuracy: 0.9739\n",
      "Epoch 3/4\n",
      "308/308 [==============================] - 13s 41ms/step - loss: 0.0401 - accuracy: 0.9889 - val_loss: 0.1210 - val_accuracy: 0.9830\n",
      "Epoch 4/4\n",
      "308/308 [==============================] - 13s 41ms/step - loss: 0.0222 - accuracy: 0.9936 - val_loss: 0.1219 - val_accuracy: 0.9830\n",
      "330/330 [==============================] - 3s 9ms/step\n",
      "done\n"
     ]
    }
   ],
   "source": [
    "#import tensorflow and keras to use neural network model\n",
    "import tensorflow as tf\n",
    "#import dense and sequential libraries for model layers\n",
    "from tensorflow.keras.layers import Dense\n",
    "from tensorflow.keras.models import Sequential\n",
    "\n",
    "#reformat y train for model\n",
    "Y_nn = train_resampled['sentiment'] + 1\n",
    "#change shape of training and testing data\n",
    "X_threshold_scaled_data_reshaped = np.array(X_threshold_scaled_data).reshape(-1,X_threshold_scaled_data.shape[1])\n",
    "X_testing_data_reshaped = np.array(X_testing_data).reshape(-1,X_threshold_scaled_data.shape[1])\n",
    "\n",
    "#Create model instance and determine layers, neurals and activation features\n",
    "model = Sequential([\n",
    "    Dense(350,activation='relu', input_shape=(X_threshold_scaled_data.shape[1],)),\n",
    "    Dense(250, activation='relu'),\n",
    "    Dense(150, activation='relu'),\n",
    "    Dense(4, activation='softmax')])\n",
    "#determine metrics, loss function and compiler\n",
    "model.compile(optimizer='adam',\n",
    "              loss='sparse_categorical_crossentropy',\n",
    "              metrics=['accuracy'])\n",
    "#fit model\n",
    "model_history = model.fit(X_threshold_scaled_data_reshaped, np.array(Y_nn).reshape(-1,), batch_size=100, epochs=4, validation_split=0.1)\n",
    "#predict y variable for test data\n",
    "y_pred = model.predict(X_testing_data_reshaped)\n",
    "\n",
    "result_testing = testing_data.copy()\n",
    "print('done')\n",
    "#add all y predictions to result dataframe\n",
    "result_testing['sentiment'] = [x for x in y_pred]"
   ]
  },
  {
   "cell_type": "code",
   "execution_count": 105,
   "metadata": {},
   "outputs": [
    {
     "data": {
      "text/plain": [
       "(10546, 4)"
      ]
     },
     "execution_count": 105,
     "metadata": {},
     "output_type": "execute_result"
    }
   ],
   "source": [
    "#print y prediction shape\n",
    "y_pred.shape"
   ]
  },
  {
   "cell_type": "code",
   "execution_count": 106,
   "metadata": {},
   "outputs": [
    {
     "data": {
      "text/html": [
       "<div>\n",
       "<style scoped>\n",
       "    .dataframe tbody tr th:only-of-type {\n",
       "        vertical-align: middle;\n",
       "    }\n",
       "\n",
       "    .dataframe tbody tr th {\n",
       "        vertical-align: top;\n",
       "    }\n",
       "\n",
       "    .dataframe thead th {\n",
       "        text-align: right;\n",
       "    }\n",
       "</style>\n",
       "<table border=\"1\" class=\"dataframe\">\n",
       "  <thead>\n",
       "    <tr style=\"text-align: right;\">\n",
       "      <th></th>\n",
       "      <th>tweetid</th>\n",
       "      <th>message</th>\n",
       "      <th>sentiment</th>\n",
       "    </tr>\n",
       "  </thead>\n",
       "  <tbody>\n",
       "    <tr>\n",
       "      <th>0</th>\n",
       "      <td>169760</td>\n",
       "      <td>europe will now be looking to china to make su...</td>\n",
       "      <td>[0.0011720487, 0.001041288, 0.95296025, 0.0448...</td>\n",
       "    </tr>\n",
       "    <tr>\n",
       "      <th>1</th>\n",
       "      <td>35326</td>\n",
       "      <td>combine this with the polling of staffer re cl...</td>\n",
       "      <td>[5.3861557e-05, 0.0013281152, 0.9981976, 0.000...</td>\n",
       "    </tr>\n",
       "    <tr>\n",
       "      <th>2</th>\n",
       "      <td>224985</td>\n",
       "      <td>the scary unimpeachable evidence that climate ...</td>\n",
       "      <td>[3.769451e-09, 4.262308e-08, 0.99999905, 8.943...</td>\n",
       "    </tr>\n",
       "    <tr>\n",
       "      <th>3</th>\n",
       "      <td>476263</td>\n",
       "      <td>karoli morgfair osborneink dailykos \\nputin go...</td>\n",
       "      <td>[1.706457e-05, 0.997474, 0.0025083988, 4.35796...</td>\n",
       "    </tr>\n",
       "    <tr>\n",
       "      <th>4</th>\n",
       "      <td>872928</td>\n",
       "      <td>rt fakewillmoore female orgasm cause global wa...</td>\n",
       "      <td>[0.0017192034, 0.8593166, 0.12880662, 0.010157...</td>\n",
       "    </tr>\n",
       "    <tr>\n",
       "      <th>...</th>\n",
       "      <td>...</td>\n",
       "      <td>...</td>\n",
       "      <td>...</td>\n",
       "    </tr>\n",
       "    <tr>\n",
       "      <th>10541</th>\n",
       "      <td>895714</td>\n",
       "      <td>rt brittanybohrer brb writing a poem about cli...</td>\n",
       "      <td>[0.81731313, 0.01113892, 0.17052948, 0.0010184...</td>\n",
       "    </tr>\n",
       "    <tr>\n",
       "      <th>10542</th>\n",
       "      <td>875167</td>\n",
       "      <td>the year climate change came home during the ...</td>\n",
       "      <td>[7.704395e-06, 6.603195e-05, 0.99922025, 0.000...</td>\n",
       "    </tr>\n",
       "    <tr>\n",
       "      <th>10543</th>\n",
       "      <td>78329</td>\n",
       "      <td>rt loopvanuatu pacific country positive about ...</td>\n",
       "      <td>[3.123198e-07, 0.027871413, 0.6196939, 0.3524343]</td>\n",
       "    </tr>\n",
       "    <tr>\n",
       "      <th>10544</th>\n",
       "      <td>867455</td>\n",
       "      <td>rt xanria youre so hot you must be the cause f...</td>\n",
       "      <td>[2.370947e-07, 0.99999464, 5.178094e-06, 3.290...</td>\n",
       "    </tr>\n",
       "    <tr>\n",
       "      <th>10545</th>\n",
       "      <td>470892</td>\n",
       "      <td>rt chloebalaoing climate change is a global is...</td>\n",
       "      <td>[2.1363521e-05, 3.528543e-05, 0.96789056, 0.03...</td>\n",
       "    </tr>\n",
       "  </tbody>\n",
       "</table>\n",
       "<p>10546 rows × 3 columns</p>\n",
       "</div>"
      ],
      "text/plain": [
       "       tweetid                                            message  \\\n",
       "0       169760  europe will now be looking to china to make su...   \n",
       "1        35326  combine this with the polling of staffer re cl...   \n",
       "2       224985  the scary unimpeachable evidence that climate ...   \n",
       "3       476263  karoli morgfair osborneink dailykos \\nputin go...   \n",
       "4       872928  rt fakewillmoore female orgasm cause global wa...   \n",
       "...        ...                                                ...   \n",
       "10541   895714  rt brittanybohrer brb writing a poem about cli...   \n",
       "10542   875167   the year climate change came home during the ...   \n",
       "10543    78329  rt loopvanuatu pacific country positive about ...   \n",
       "10544   867455  rt xanria youre so hot you must be the cause f...   \n",
       "10545   470892  rt chloebalaoing climate change is a global is...   \n",
       "\n",
       "                                               sentiment  \n",
       "0      [0.0011720487, 0.001041288, 0.95296025, 0.0448...  \n",
       "1      [5.3861557e-05, 0.0013281152, 0.9981976, 0.000...  \n",
       "2      [3.769451e-09, 4.262308e-08, 0.99999905, 8.943...  \n",
       "3      [1.706457e-05, 0.997474, 0.0025083988, 4.35796...  \n",
       "4      [0.0017192034, 0.8593166, 0.12880662, 0.010157...  \n",
       "...                                                  ...  \n",
       "10541  [0.81731313, 0.01113892, 0.17052948, 0.0010184...  \n",
       "10542  [7.704395e-06, 6.603195e-05, 0.99922025, 0.000...  \n",
       "10543  [3.123198e-07, 0.027871413, 0.6196939, 0.3524343]  \n",
       "10544  [2.370947e-07, 0.99999464, 5.178094e-06, 3.290...  \n",
       "10545  [2.1363521e-05, 3.528543e-05, 0.96789056, 0.03...  \n",
       "\n",
       "[10546 rows x 3 columns]"
      ]
     },
     "execution_count": 106,
     "metadata": {},
     "output_type": "execute_result"
    }
   ],
   "source": [
    "#display result dataframe information\n",
    "result_testing"
   ]
  },
  {
   "cell_type": "code",
   "execution_count": 107,
   "metadata": {},
   "outputs": [],
   "source": [
    "#create function to change scientific values to float\n",
    "def change(list_num):\n",
    "    empty = []\n",
    "    for x in list_num:\n",
    "        empty.append(round(float(x),4))\n",
    "    return empty"
   ]
  },
  {
   "cell_type": "code",
   "execution_count": 108,
   "metadata": {},
   "outputs": [],
   "source": [
    "#apply change function on y predictions\n",
    "result_testing['sentiment'] = result_testing['sentiment'].apply(change)"
   ]
  },
  {
   "cell_type": "code",
   "execution_count": 109,
   "metadata": {},
   "outputs": [],
   "source": [
    "#display the location of max probability class and return correct response variable\n",
    "def locate_max(number_list):\n",
    "    location_list = number_list.index(max(number_list))\n",
    "    return location_list -1"
   ]
  },
  {
   "cell_type": "code",
   "execution_count": 110,
   "metadata": {},
   "outputs": [],
   "source": [
    "#apply locate max function on sentiment\n",
    "result_testing['sentiment'] = result_testing['sentiment'].apply(locate_max)"
   ]
  },
  {
   "cell_type": "code",
   "execution_count": 111,
   "metadata": {},
   "outputs": [
    {
     "data": {
      "text/plain": [
       "0        1\n",
       "1        1\n",
       "2        1\n",
       "3        0\n",
       "4        0\n",
       "        ..\n",
       "10541   -1\n",
       "10542    1\n",
       "10543    1\n",
       "10544    0\n",
       "10545    1\n",
       "Name: sentiment, Length: 10546, dtype: int64"
      ]
     },
     "execution_count": 111,
     "metadata": {},
     "output_type": "execute_result"
    }
   ],
   "source": [
    "#display sentiment data\n",
    "result_testing['sentiment']"
   ]
  },
  {
   "cell_type": "code",
   "execution_count": 112,
   "metadata": {},
   "outputs": [
    {
     "data": {
      "text/plain": [
       " 1    6544\n",
       " 2    2234\n",
       " 0    1164\n",
       "-1     604\n",
       "Name: sentiment, dtype: int64"
      ]
     },
     "execution_count": 112,
     "metadata": {},
     "output_type": "execute_result"
    }
   ],
   "source": [
    "#show sentiment count per class\n",
    "result_testing['sentiment'].value_counts()"
   ]
  },
  {
   "cell_type": "code",
   "execution_count": 113,
   "metadata": {},
   "outputs": [
    {
     "name": "stdout",
     "output_type": "stream",
     "text": [
      "Done\n"
     ]
    }
   ],
   "source": [
    "#export results to csv for submission\n",
    "result_testing = result_testing[['tweetid','sentiment']]\n",
    "result_testing.to_csv('NNC_clf.csv', index=False)\n",
    "print('Done')"
   ]
  },
  {
   "cell_type": "markdown",
   "metadata": {},
   "source": [
    "**Save model used**"
   ]
  },
  {
   "cell_type": "code",
   "execution_count": 114,
   "metadata": {},
   "outputs": [],
   "source": [
    "#use file format h5 and store structured data\n",
    "file = 'model.h5'\n",
    "#save model\n",
    "model.save(file)"
   ]
  },
  {
   "cell_type": "code",
   "execution_count": 115,
   "metadata": {},
   "outputs": [],
   "source": [
    "#import load_model library\n",
    "from tensorflow.keras.models import load_model"
   ]
  },
  {
   "cell_type": "code",
   "execution_count": 116,
   "metadata": {},
   "outputs": [],
   "source": [
    "#load the saved classification model\n",
    "loaded_classification_model = load_model(file)"
   ]
  },
  {
   "cell_type": "code",
   "execution_count": 117,
   "metadata": {},
   "outputs": [
    {
     "name": "stdout",
     "output_type": "stream",
     "text": [
      "330/330 [==============================] - 3s 8ms/step\n"
     ]
    },
    {
     "data": {
      "text/plain": [
       "0        1\n",
       "1        1\n",
       "2        1\n",
       "3        0\n",
       "4        0\n",
       "        ..\n",
       "10541   -1\n",
       "10542    1\n",
       "10543    1\n",
       "10544    0\n",
       "10545    1\n",
       "Name: sentiment, Length: 10546, dtype: int64"
      ]
     },
     "execution_count": 117,
     "metadata": {},
     "output_type": "execute_result"
    }
   ],
   "source": [
    "#test prediction of y\n",
    "y_pred = model.predict(X_testing_data_reshaped)\n",
    "#create copy of test data\n",
    "result_testing = testing_data.copy()\n",
    "\n",
    "#add all y predictions to result dataframe\n",
    "result_testing['sentiment'] = [x for x in y_pred]\n",
    "#create function to change scientific values to float\n",
    "def change(list_num):\n",
    "    empty = []\n",
    "    for x in list_num:\n",
    "        empty.append(round(float(x),4))\n",
    "    return empty\n",
    "#apply change function on y predictions\n",
    "result_testing['sentiment'] = result_testing['sentiment'].apply(change)\n",
    "#display the location of max probability class and return correct response variable\n",
    "def locate_max(number_list):\n",
    "    location_list = number_list.index(max(number_list))\n",
    "    return location_list -1\n",
    "#display sentiment data\n",
    "result_testing['sentiment'] = result_testing['sentiment'].apply(locate_max)\n",
    "result_testing['sentiment']"
   ]
  },
  {
   "cell_type": "markdown",
   "metadata": {},
   "source": [
    "Save MLP model"
   ]
  },
  {
   "cell_type": "code",
   "execution_count": 118,
   "metadata": {},
   "outputs": [
    {
     "data": {
      "text/plain": [
       "array([1, 1, 1, ..., 0, 0, 1])"
      ]
     },
     "execution_count": 118,
     "metadata": {},
     "output_type": "execute_result"
    }
   ],
   "source": [
    "file_save = \"MLP_model.pkl\"\n",
    "with open(file_save,'wb') as file:\n",
    "    pickle.dump(MLP_clf,file)\n",
    "    \n",
    "with open(file_save,'rb') as file:\n",
    "    unpickled = pickle.load(file)\n",
    "    \n",
    "y_prediction = unpickled.predict(X_testing_data)\n",
    "y_prediction"
   ]
  },
  {
   "cell_type": "markdown",
   "metadata": {},
   "source": [
    "**Conclusion**\n",
    "\n",
    "Neural network classifier was used for final submission.\n",
    "Neural networks are used for non linear models and uses batching of observations that are moved through layers and nodes.\n",
    "Completion of all batches/observations is considered as one Epoch. In this model I have used 4 epochs and the loss function 'sparse_categorical_crossentropy'.\n",
    "Each layer was follewed in sequence and relyed on the relu activation. The output activation was the softmax that calculated the probability of features belonging to a class.\n",
    "I have then identified the highest probability class for each response and used this for the final output."
   ]
  }
 ],
 "metadata": {
  "kernelspec": {
   "display_name": "Python 3 (ipykernel)",
   "language": "python",
   "name": "python3"
  },
  "language_info": {
   "codemirror_mode": {
    "name": "ipython",
    "version": 3
   },
   "file_extension": ".py",
   "mimetype": "text/x-python",
   "name": "python",
   "nbconvert_exporter": "python",
   "pygments_lexer": "ipython3",
   "version": "3.9.13"
  }
 },
 "nbformat": 4,
 "nbformat_minor": 4
}
